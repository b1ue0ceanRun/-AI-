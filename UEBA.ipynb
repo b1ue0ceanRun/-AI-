{
 "cells": [
  {
   "cell_type": "markdown",
   "id": "7c8de6ba",
   "metadata": {
    "papermill": {
     "duration": 0.012741,
     "end_time": "2023-03-12T14:12:44.889976",
     "exception": false,
     "start_time": "2023-03-12T14:12:44.877235",
     "status": "completed"
    },
    "pycharm": {
     "name": "#%% md\n"
    },
    "tags": []
   },
   "source": [
    "# 数据预处理\n",
    "baseline 部分借鉴 https://blog.csdn.net/m0_63642362/article/details/128328456"
   ]
  },
  {
   "cell_type": "code",
   "execution_count": 1,
   "id": "aedabb13",
   "metadata": {
    "execution": {
     "iopub.execute_input": "2023-03-12T14:12:44.915421Z",
     "iopub.status.busy": "2023-03-12T14:12:44.914964Z",
     "iopub.status.idle": "2023-03-12T14:12:45.961523Z",
     "shell.execute_reply": "2023-03-12T14:12:45.959932Z"
    },
    "papermill": {
     "duration": 1.062946,
     "end_time": "2023-03-12T14:12:45.964686",
     "exception": false,
     "start_time": "2023-03-12T14:12:44.901740",
     "status": "completed"
    },
    "tags": []
   },
   "outputs": [
    {
     "name": "stdout",
     "output_type": "stream",
     "text": [
      "train_data.csv\r\n"
     ]
    }
   ],
   "source": [
    "! ls /kaggle/input/ueba-dataset/train_data"
   ]
  },
  {
   "cell_type": "code",
   "execution_count": 2,
   "id": "35f2524f",
   "metadata": {
    "collapsed": false,
    "execution": {
     "iopub.execute_input": "2023-03-12T14:12:45.990475Z",
     "iopub.status.busy": "2023-03-12T14:12:45.989962Z",
     "iopub.status.idle": "2023-03-12T14:12:47.293882Z",
     "shell.execute_reply": "2023-03-12T14:12:47.292592Z"
    },
    "jupyter": {
     "outputs_hidden": false
    },
    "papermill": {
     "duration": 1.320269,
     "end_time": "2023-03-12T14:12:47.296971",
     "exception": false,
     "start_time": "2023-03-12T14:12:45.976702",
     "status": "completed"
    },
    "pycharm": {
     "name": "#%%\n"
    },
    "tags": []
   },
   "outputs": [],
   "source": [
    "import pandas as pd\n",
    "import matplotlib.pyplot as plt\n",
    "import seaborn as sns\n",
    "import numpy as np"
   ]
  },
  {
   "cell_type": "code",
   "execution_count": 3,
   "id": "b6b346fe",
   "metadata": {
    "collapsed": false,
    "execution": {
     "iopub.execute_input": "2023-03-12T14:12:47.324692Z",
     "iopub.status.busy": "2023-03-12T14:12:47.324216Z",
     "iopub.status.idle": "2023-03-12T14:12:49.646515Z",
     "shell.execute_reply": "2023-03-12T14:12:49.644954Z"
    },
    "jupyter": {
     "outputs_hidden": false
    },
    "papermill": {
     "duration": 2.338418,
     "end_time": "2023-03-12T14:12:49.649484",
     "exception": false,
     "start_time": "2023-03-12T14:12:47.311066",
     "status": "completed"
    },
    "pycharm": {
     "name": "#%%\n"
    },
    "tags": []
   },
   "outputs": [],
   "source": [
    "train_data = pd.read_csv(\"/kaggle/input/ueba-dataset/train_data/train_data.csv\", encoding='gbk')"
   ]
  },
  {
   "cell_type": "code",
   "execution_count": 4,
   "id": "146d670e",
   "metadata": {
    "collapsed": false,
    "execution": {
     "iopub.execute_input": "2023-03-12T14:12:49.674953Z",
     "iopub.status.busy": "2023-03-12T14:12:49.674471Z",
     "iopub.status.idle": "2023-03-12T14:12:49.710113Z",
     "shell.execute_reply": "2023-03-12T14:12:49.708747Z"
    },
    "jupyter": {
     "outputs_hidden": false
    },
    "papermill": {
     "duration": 0.05189,
     "end_time": "2023-03-12T14:12:49.712962",
     "exception": false,
     "start_time": "2023-03-12T14:12:49.661072",
     "status": "completed"
    },
    "pycharm": {
     "name": "#%%\n"
    },
    "tags": []
   },
   "outputs": [
    {
     "data": {
      "text/html": [
       "<div>\n",
       "<style scoped>\n",
       "    .dataframe tbody tr th:only-of-type {\n",
       "        vertical-align: middle;\n",
       "    }\n",
       "\n",
       "    .dataframe tbody tr th {\n",
       "        vertical-align: top;\n",
       "    }\n",
       "\n",
       "    .dataframe thead th {\n",
       "        text-align: right;\n",
       "    }\n",
       "</style>\n",
       "<table border=\"1\" class=\"dataframe\">\n",
       "  <thead>\n",
       "    <tr style=\"text-align: right;\">\n",
       "      <th></th>\n",
       "      <th>id</th>\n",
       "      <th>account</th>\n",
       "      <th>group</th>\n",
       "      <th>IP</th>\n",
       "      <th>url</th>\n",
       "      <th>port</th>\n",
       "      <th>vlan</th>\n",
       "      <th>switchIP</th>\n",
       "      <th>time</th>\n",
       "      <th>ret</th>\n",
       "    </tr>\n",
       "  </thead>\n",
       "  <tbody>\n",
       "    <tr>\n",
       "      <th>0</th>\n",
       "      <td>1</td>\n",
       "      <td>xiaojiawei@qq.com</td>\n",
       "      <td>人事行政中心</td>\n",
       "      <td>192.168.1.50</td>\n",
       "      <td>http://123.6.4.41</td>\n",
       "      <td>15788</td>\n",
       "      <td>700</td>\n",
       "      <td>129.30.06.37</td>\n",
       "      <td>2021/6/16 7:56</td>\n",
       "      <td>0.1149</td>\n",
       "    </tr>\n",
       "    <tr>\n",
       "      <th>1</th>\n",
       "      <td>2</td>\n",
       "      <td>xiaojiawei@qq.com</td>\n",
       "      <td>人事行政中心</td>\n",
       "      <td>192.168.31.46</td>\n",
       "      <td>http://104.192.108.154</td>\n",
       "      <td>12665</td>\n",
       "      <td>700</td>\n",
       "      <td>152.91.89.45</td>\n",
       "      <td>2021/6/28 7:58</td>\n",
       "      <td>0.1801</td>\n",
       "    </tr>\n",
       "    <tr>\n",
       "      <th>2</th>\n",
       "      <td>3</td>\n",
       "      <td>xiaojiawei@qq.com</td>\n",
       "      <td>人事行政中心</td>\n",
       "      <td>192.168.2.3</td>\n",
       "      <td>http://42.236.37.80</td>\n",
       "      <td>25551</td>\n",
       "      <td>700</td>\n",
       "      <td>129.30.06.37</td>\n",
       "      <td>2021/6/1 6:37</td>\n",
       "      <td>0.3690</td>\n",
       "    </tr>\n",
       "    <tr>\n",
       "      <th>3</th>\n",
       "      <td>4</td>\n",
       "      <td>xiaojiawei@qq.com</td>\n",
       "      <td>人事行政中心</td>\n",
       "      <td>192.168.145.30</td>\n",
       "      <td>http://uf-api6-client.ksord.com</td>\n",
       "      <td>18274</td>\n",
       "      <td>700</td>\n",
       "      <td>162.6.8.29</td>\n",
       "      <td>2021/5/5 8:18</td>\n",
       "      <td>0.1532</td>\n",
       "    </tr>\n",
       "    <tr>\n",
       "      <th>4</th>\n",
       "      <td>5</td>\n",
       "      <td>xiaojiawei@qq.com</td>\n",
       "      <td>人事行政中心</td>\n",
       "      <td>192.168.178.92</td>\n",
       "      <td>http://101.199.128.170</td>\n",
       "      <td>34572</td>\n",
       "      <td>700</td>\n",
       "      <td>162.0.1.84</td>\n",
       "      <td>2021/6/20 6:52</td>\n",
       "      <td>0.1449</td>\n",
       "    </tr>\n",
       "  </tbody>\n",
       "</table>\n",
       "</div>"
      ],
      "text/plain": [
       "   id            account   group              IP  \\\n",
       "0   1  xiaojiawei@qq.com  人事行政中心    192.168.1.50   \n",
       "1   2  xiaojiawei@qq.com  人事行政中心   192.168.31.46   \n",
       "2   3  xiaojiawei@qq.com  人事行政中心     192.168.2.3   \n",
       "3   4  xiaojiawei@qq.com  人事行政中心  192.168.145.30   \n",
       "4   5  xiaojiawei@qq.com  人事行政中心  192.168.178.92   \n",
       "\n",
       "                               url   port  vlan      switchIP            time  \\\n",
       "0                http://123.6.4.41  15788   700  129.30.06.37  2021/6/16 7:56   \n",
       "1           http://104.192.108.154  12665   700  152.91.89.45  2021/6/28 7:58   \n",
       "2              http://42.236.37.80  25551   700  129.30.06.37   2021/6/1 6:37   \n",
       "3  http://uf-api6-client.ksord.com  18274   700    162.6.8.29   2021/5/5 8:18   \n",
       "4           http://101.199.128.170  34572   700    162.0.1.84  2021/6/20 6:52   \n",
       "\n",
       "      ret  \n",
       "0  0.1149  \n",
       "1  0.1801  \n",
       "2  0.3690  \n",
       "3  0.1532  \n",
       "4  0.1449  "
      ]
     },
     "execution_count": 4,
     "metadata": {},
     "output_type": "execute_result"
    }
   ],
   "source": [
    "train_data.head()"
   ]
  },
  {
   "cell_type": "markdown",
   "id": "b5d59f31",
   "metadata": {
    "papermill": {
     "duration": 0.011434,
     "end_time": "2023-03-12T14:12:49.736415",
     "exception": false,
     "start_time": "2023-03-12T14:12:49.724981",
     "status": "completed"
    },
    "pycharm": {
     "name": "#%% md\n"
    },
    "tags": []
   },
   "source": []
  },
  {
   "cell_type": "markdown",
   "id": "a180a5b0",
   "metadata": {
    "papermill": {
     "duration": 0.01166,
     "end_time": "2023-03-12T14:12:49.759785",
     "exception": false,
     "start_time": "2023-03-12T14:12:49.748125",
     "status": "completed"
    },
    "pycharm": {
     "name": "#%% md\n"
    },
    "tags": []
   },
   "source": [
    "字段名称\t字段说明\n",
    "id\t日志数据记录编号\n",
    "account\t用户账号，已脱敏\n",
    "group\t用户归属部门\n",
    "IP\t终端IP\n",
    "url\t终端上网网址\n",
    "port\t终端上网应用端口\n",
    "vlan\t终端所在虚拟网域编号\n",
    "switchIP\t终端连接交换机IP\n",
    "time\t终端上网行为发生时间\n",
    "ret\t异常行为评价得分"
   ]
  },
  {
   "cell_type": "code",
   "execution_count": 5,
   "id": "4b1b035b",
   "metadata": {
    "collapsed": false,
    "execution": {
     "iopub.execute_input": "2023-03-12T14:12:49.785439Z",
     "iopub.status.busy": "2023-03-12T14:12:49.784973Z",
     "iopub.status.idle": "2023-03-12T14:12:49.792911Z",
     "shell.execute_reply": "2023-03-12T14:12:49.791609Z"
    },
    "jupyter": {
     "outputs_hidden": false
    },
    "papermill": {
     "duration": 0.023921,
     "end_time": "2023-03-12T14:12:49.795603",
     "exception": false,
     "start_time": "2023-03-12T14:12:49.771682",
     "status": "completed"
    },
    "pycharm": {
     "name": "#%%\n"
    },
    "tags": []
   },
   "outputs": [
    {
     "data": {
      "text/plain": [
       "Index(['id', 'account', 'group', 'IP', 'url', 'port', 'vlan', 'switchIP',\n",
       "       'time', 'ret'],\n",
       "      dtype='object')"
      ]
     },
     "execution_count": 5,
     "metadata": {},
     "output_type": "execute_result"
    }
   ],
   "source": [
    "# 查看列索引\n",
    "train_data.columns"
   ]
  },
  {
   "cell_type": "code",
   "execution_count": 6,
   "id": "57d88eef",
   "metadata": {
    "collapsed": false,
    "execution": {
     "iopub.execute_input": "2023-03-12T14:12:49.821389Z",
     "iopub.status.busy": "2023-03-12T14:12:49.820937Z",
     "iopub.status.idle": "2023-03-12T14:12:50.266616Z",
     "shell.execute_reply": "2023-03-12T14:12:50.265397Z"
    },
    "jupyter": {
     "outputs_hidden": false
    },
    "papermill": {
     "duration": 0.462158,
     "end_time": "2023-03-12T14:12:50.269721",
     "exception": false,
     "start_time": "2023-03-12T14:12:49.807563",
     "status": "completed"
    },
    "pycharm": {
     "name": "#%%\n"
    },
    "tags": []
   },
   "outputs": [],
   "source": [
    "train_data['time'] = pd.to_datetime(train_data['time'])\n",
    "train_data['hour'] = train_data['time'].dt.hour\n",
    "train_data['weekday'] = train_data['time'].dt.weekday\n",
    "train_data['year'] = train_data['time'].dt.year\n",
    "train_data['month'] = train_data['time'].dt.month\n",
    "train_data['day'] = train_data['time'].dt.day"
   ]
  },
  {
   "cell_type": "code",
   "execution_count": 7,
   "id": "aed62e23",
   "metadata": {
    "collapsed": false,
    "execution": {
     "iopub.execute_input": "2023-03-12T14:12:50.296531Z",
     "iopub.status.busy": "2023-03-12T14:12:50.296091Z",
     "iopub.status.idle": "2023-03-12T14:12:50.304257Z",
     "shell.execute_reply": "2023-03-12T14:12:50.303203Z"
    },
    "jupyter": {
     "outputs_hidden": false
    },
    "papermill": {
     "duration": 0.024861,
     "end_time": "2023-03-12T14:12:50.306607",
     "exception": false,
     "start_time": "2023-03-12T14:12:50.281746",
     "status": "completed"
    },
    "pycharm": {
     "name": "#%%\n"
    },
    "tags": []
   },
   "outputs": [
    {
     "data": {
      "text/plain": [
       "id                   int64\n",
       "account             object\n",
       "group               object\n",
       "IP                  object\n",
       "url                 object\n",
       "port                 int64\n",
       "vlan                 int64\n",
       "switchIP            object\n",
       "time        datetime64[ns]\n",
       "ret                float64\n",
       "hour                 int64\n",
       "weekday              int64\n",
       "year                 int64\n",
       "month                int64\n",
       "day                  int64\n",
       "dtype: object"
      ]
     },
     "execution_count": 7,
     "metadata": {},
     "output_type": "execute_result"
    }
   ],
   "source": [
    "# 查看训练集中各字段的数据类型\n",
    "train_data.dtypes"
   ]
  },
  {
   "cell_type": "code",
   "execution_count": 8,
   "id": "9cd092ad",
   "metadata": {
    "collapsed": false,
    "execution": {
     "iopub.execute_input": "2023-03-12T14:12:50.332606Z",
     "iopub.status.busy": "2023-03-12T14:12:50.332141Z",
     "iopub.status.idle": "2023-03-12T14:12:50.623226Z",
     "shell.execute_reply": "2023-03-12T14:12:50.621743Z"
    },
    "jupyter": {
     "outputs_hidden": false
    },
    "papermill": {
     "duration": 0.307617,
     "end_time": "2023-03-12T14:12:50.626349",
     "exception": false,
     "start_time": "2023-03-12T14:12:50.318732",
     "status": "completed"
    },
    "pycharm": {
     "name": "#%%\n"
    },
    "tags": []
   },
   "outputs": [
    {
     "data": {
      "text/html": [
       "<div>\n",
       "<style scoped>\n",
       "    .dataframe tbody tr th:only-of-type {\n",
       "        vertical-align: middle;\n",
       "    }\n",
       "\n",
       "    .dataframe tbody tr th {\n",
       "        vertical-align: top;\n",
       "    }\n",
       "\n",
       "    .dataframe thead th {\n",
       "        text-align: right;\n",
       "    }\n",
       "</style>\n",
       "<table border=\"1\" class=\"dataframe\">\n",
       "  <thead>\n",
       "    <tr style=\"text-align: right;\">\n",
       "      <th></th>\n",
       "      <th>id</th>\n",
       "      <th>port</th>\n",
       "      <th>vlan</th>\n",
       "      <th>ret</th>\n",
       "      <th>hour</th>\n",
       "      <th>weekday</th>\n",
       "      <th>year</th>\n",
       "      <th>month</th>\n",
       "      <th>day</th>\n",
       "    </tr>\n",
       "  </thead>\n",
       "  <tbody>\n",
       "    <tr>\n",
       "      <th>count</th>\n",
       "      <td>528690.000000</td>\n",
       "      <td>528690.000000</td>\n",
       "      <td>528690.000000</td>\n",
       "      <td>528690.000000</td>\n",
       "      <td>528690.000000</td>\n",
       "      <td>528690.000000</td>\n",
       "      <td>528690.0</td>\n",
       "      <td>528690.000000</td>\n",
       "      <td>528690.000000</td>\n",
       "    </tr>\n",
       "    <tr>\n",
       "      <th>mean</th>\n",
       "      <td>264345.500000</td>\n",
       "      <td>25241.669929</td>\n",
       "      <td>1152.486902</td>\n",
       "      <td>0.257757</td>\n",
       "      <td>6.334313</td>\n",
       "      <td>2.993121</td>\n",
       "      <td>2021.0</td>\n",
       "      <td>5.500458</td>\n",
       "      <td>14.999383</td>\n",
       "    </tr>\n",
       "    <tr>\n",
       "      <th>std</th>\n",
       "      <td>152619.801246</td>\n",
       "      <td>8543.017235</td>\n",
       "      <td>438.932786</td>\n",
       "      <td>0.219326</td>\n",
       "      <td>4.258042</td>\n",
       "      <td>1.997915</td>\n",
       "      <td>0.0</td>\n",
       "      <td>0.500828</td>\n",
       "      <td>8.369525</td>\n",
       "    </tr>\n",
       "    <tr>\n",
       "      <th>min</th>\n",
       "      <td>1.000000</td>\n",
       "      <td>11122.000000</td>\n",
       "      <td>700.000000</td>\n",
       "      <td>0.000100</td>\n",
       "      <td>0.000000</td>\n",
       "      <td>0.000000</td>\n",
       "      <td>2021.0</td>\n",
       "      <td>4.000000</td>\n",
       "      <td>1.000000</td>\n",
       "    </tr>\n",
       "    <tr>\n",
       "      <th>25%</th>\n",
       "      <td>132173.250000</td>\n",
       "      <td>16865.000000</td>\n",
       "      <td>900.000000</td>\n",
       "      <td>0.078500</td>\n",
       "      <td>3.000000</td>\n",
       "      <td>1.000000</td>\n",
       "      <td>2021.0</td>\n",
       "      <td>5.000000</td>\n",
       "      <td>8.000000</td>\n",
       "    </tr>\n",
       "    <tr>\n",
       "      <th>50%</th>\n",
       "      <td>264345.500000</td>\n",
       "      <td>25278.000000</td>\n",
       "      <td>1000.000000</td>\n",
       "      <td>0.208000</td>\n",
       "      <td>6.000000</td>\n",
       "      <td>3.000000</td>\n",
       "      <td>2021.0</td>\n",
       "      <td>6.000000</td>\n",
       "      <td>15.000000</td>\n",
       "    </tr>\n",
       "    <tr>\n",
       "      <th>75%</th>\n",
       "      <td>396517.750000</td>\n",
       "      <td>33474.000000</td>\n",
       "      <td>1200.000000</td>\n",
       "      <td>0.377400</td>\n",
       "      <td>9.000000</td>\n",
       "      <td>5.000000</td>\n",
       "      <td>2021.0</td>\n",
       "      <td>6.000000</td>\n",
       "      <td>22.000000</td>\n",
       "    </tr>\n",
       "    <tr>\n",
       "      <th>max</th>\n",
       "      <td>528690.000000</td>\n",
       "      <td>38867.000000</td>\n",
       "      <td>2000.000000</td>\n",
       "      <td>1.000000</td>\n",
       "      <td>23.000000</td>\n",
       "      <td>6.000000</td>\n",
       "      <td>2021.0</td>\n",
       "      <td>6.000000</td>\n",
       "      <td>31.000000</td>\n",
       "    </tr>\n",
       "  </tbody>\n",
       "</table>\n",
       "</div>"
      ],
      "text/plain": [
       "                  id           port           vlan            ret  \\\n",
       "count  528690.000000  528690.000000  528690.000000  528690.000000   \n",
       "mean   264345.500000   25241.669929    1152.486902       0.257757   \n",
       "std    152619.801246    8543.017235     438.932786       0.219326   \n",
       "min         1.000000   11122.000000     700.000000       0.000100   \n",
       "25%    132173.250000   16865.000000     900.000000       0.078500   \n",
       "50%    264345.500000   25278.000000    1000.000000       0.208000   \n",
       "75%    396517.750000   33474.000000    1200.000000       0.377400   \n",
       "max    528690.000000   38867.000000    2000.000000       1.000000   \n",
       "\n",
       "                hour        weekday      year          month            day  \n",
       "count  528690.000000  528690.000000  528690.0  528690.000000  528690.000000  \n",
       "mean        6.334313       2.993121    2021.0       5.500458      14.999383  \n",
       "std         4.258042       1.997915       0.0       0.500828       8.369525  \n",
       "min         0.000000       0.000000    2021.0       4.000000       1.000000  \n",
       "25%         3.000000       1.000000    2021.0       5.000000       8.000000  \n",
       "50%         6.000000       3.000000    2021.0       6.000000      15.000000  \n",
       "75%         9.000000       5.000000    2021.0       6.000000      22.000000  \n",
       "max        23.000000       6.000000    2021.0       6.000000      31.000000  "
      ]
     },
     "execution_count": 8,
     "metadata": {},
     "output_type": "execute_result"
    }
   ],
   "source": [
    "# 查看各字段的基本统计学数据描述\n",
    "train_data.describe()"
   ]
  },
  {
   "cell_type": "code",
   "execution_count": 9,
   "id": "48706b53",
   "metadata": {
    "collapsed": false,
    "execution": {
     "iopub.execute_input": "2023-03-12T14:12:50.653747Z",
     "iopub.status.busy": "2023-03-12T14:12:50.653283Z",
     "iopub.status.idle": "2023-03-12T14:12:51.255591Z",
     "shell.execute_reply": "2023-03-12T14:12:51.254277Z"
    },
    "jupyter": {
     "outputs_hidden": false
    },
    "papermill": {
     "duration": 0.618966,
     "end_time": "2023-03-12T14:12:51.258273",
     "exception": false,
     "start_time": "2023-03-12T14:12:50.639307",
     "status": "completed"
    },
    "pycharm": {
     "name": "#%%\n"
    },
    "tags": []
   },
   "outputs": [
    {
     "data": {
      "text/plain": [
       "False"
      ]
     },
     "execution_count": 9,
     "metadata": {},
     "output_type": "execute_result"
    }
   ],
   "source": [
    "train_data.duplicated().any()"
   ]
  },
  {
   "cell_type": "code",
   "execution_count": 10,
   "id": "75956d73",
   "metadata": {
    "collapsed": false,
    "execution": {
     "iopub.execute_input": "2023-03-12T14:12:51.284873Z",
     "iopub.status.busy": "2023-03-12T14:12:51.284397Z",
     "iopub.status.idle": "2023-03-12T14:12:51.429413Z",
     "shell.execute_reply": "2023-03-12T14:12:51.428071Z"
    },
    "jupyter": {
     "outputs_hidden": false
    },
    "papermill": {
     "duration": 0.161553,
     "end_time": "2023-03-12T14:12:51.432135",
     "exception": false,
     "start_time": "2023-03-12T14:12:51.270582",
     "status": "completed"
    },
    "pycharm": {
     "name": "#%%\n"
    },
    "tags": []
   },
   "outputs": [
    {
     "data": {
      "text/plain": [
       "id          True\n",
       "account     True\n",
       "group       True\n",
       "IP          True\n",
       "url         True\n",
       "port        True\n",
       "vlan        True\n",
       "switchIP    True\n",
       "time        True\n",
       "ret         True\n",
       "hour        True\n",
       "weekday     True\n",
       "year        True\n",
       "month       True\n",
       "day         True\n",
       "dtype: bool"
      ]
     },
     "execution_count": 10,
     "metadata": {},
     "output_type": "execute_result"
    }
   ],
   "source": [
    "pd.notnull(train_data).all()"
   ]
  },
  {
   "cell_type": "code",
   "execution_count": 11,
   "id": "0ae01fdb",
   "metadata": {
    "collapsed": false,
    "execution": {
     "iopub.execute_input": "2023-03-12T14:12:51.459607Z",
     "iopub.status.busy": "2023-03-12T14:12:51.458772Z",
     "iopub.status.idle": "2023-03-12T14:12:52.390366Z",
     "shell.execute_reply": "2023-03-12T14:12:52.389022Z"
    },
    "jupyter": {
     "outputs_hidden": false
    },
    "papermill": {
     "duration": 0.948699,
     "end_time": "2023-03-12T14:12:52.393428",
     "exception": false,
     "start_time": "2023-03-12T14:12:51.444729",
     "status": "completed"
    },
    "pycharm": {
     "name": "#%%\n"
    },
    "tags": []
   },
   "outputs": [],
   "source": [
    "# 肯定要再改进的地方\n",
    "from sklearn.preprocessing import LabelEncoder\n",
    "\n",
    "for feat in ['account', 'group', 'IP', 'url', 'switchIP']:\n",
    "    labelencoder = LabelEncoder()\n",
    "    train_data[feat] = labelencoder.fit_transform(train_data[feat])"
   ]
  },
  {
   "cell_type": "code",
   "execution_count": 12,
   "id": "7a4db858",
   "metadata": {
    "collapsed": false,
    "execution": {
     "iopub.execute_input": "2023-03-12T14:12:52.420992Z",
     "iopub.status.busy": "2023-03-12T14:12:52.420428Z",
     "iopub.status.idle": "2023-03-12T14:12:52.437853Z",
     "shell.execute_reply": "2023-03-12T14:12:52.436589Z"
    },
    "jupyter": {
     "outputs_hidden": false
    },
    "papermill": {
     "duration": 0.034165,
     "end_time": "2023-03-12T14:12:52.440274",
     "exception": false,
     "start_time": "2023-03-12T14:12:52.406109",
     "status": "completed"
    },
    "pycharm": {
     "name": "#%%\n"
    },
    "tags": []
   },
   "outputs": [
    {
     "data": {
      "text/html": [
       "<div>\n",
       "<style scoped>\n",
       "    .dataframe tbody tr th:only-of-type {\n",
       "        vertical-align: middle;\n",
       "    }\n",
       "\n",
       "    .dataframe tbody tr th {\n",
       "        vertical-align: top;\n",
       "    }\n",
       "\n",
       "    .dataframe thead th {\n",
       "        text-align: right;\n",
       "    }\n",
       "</style>\n",
       "<table border=\"1\" class=\"dataframe\">\n",
       "  <thead>\n",
       "    <tr style=\"text-align: right;\">\n",
       "      <th></th>\n",
       "      <th>id</th>\n",
       "      <th>account</th>\n",
       "      <th>group</th>\n",
       "      <th>IP</th>\n",
       "      <th>url</th>\n",
       "      <th>port</th>\n",
       "      <th>vlan</th>\n",
       "      <th>switchIP</th>\n",
       "      <th>time</th>\n",
       "      <th>ret</th>\n",
       "      <th>hour</th>\n",
       "      <th>weekday</th>\n",
       "      <th>year</th>\n",
       "      <th>month</th>\n",
       "      <th>day</th>\n",
       "    </tr>\n",
       "  </thead>\n",
       "  <tbody>\n",
       "    <tr>\n",
       "      <th>0</th>\n",
       "      <td>1</td>\n",
       "      <td>113</td>\n",
       "      <td>1</td>\n",
       "      <td>18</td>\n",
       "      <td>216</td>\n",
       "      <td>15788</td>\n",
       "      <td>700</td>\n",
       "      <td>44</td>\n",
       "      <td>2021-06-16 07:56:00</td>\n",
       "      <td>0.1149</td>\n",
       "      <td>7</td>\n",
       "      <td>2</td>\n",
       "      <td>2021</td>\n",
       "      <td>6</td>\n",
       "      <td>16</td>\n",
       "    </tr>\n",
       "    <tr>\n",
       "      <th>1</th>\n",
       "      <td>2</td>\n",
       "      <td>113</td>\n",
       "      <td>1</td>\n",
       "      <td>101</td>\n",
       "      <td>157</td>\n",
       "      <td>12665</td>\n",
       "      <td>700</td>\n",
       "      <td>91</td>\n",
       "      <td>2021-06-28 07:58:00</td>\n",
       "      <td>0.1801</td>\n",
       "      <td>7</td>\n",
       "      <td>0</td>\n",
       "      <td>2021</td>\n",
       "      <td>6</td>\n",
       "      <td>28</td>\n",
       "    </tr>\n",
       "    <tr>\n",
       "      <th>2</th>\n",
       "      <td>3</td>\n",
       "      <td>113</td>\n",
       "      <td>1</td>\n",
       "      <td>81</td>\n",
       "      <td>373</td>\n",
       "      <td>25551</td>\n",
       "      <td>700</td>\n",
       "      <td>44</td>\n",
       "      <td>2021-06-01 06:37:00</td>\n",
       "      <td>0.3690</td>\n",
       "      <td>6</td>\n",
       "      <td>1</td>\n",
       "      <td>2021</td>\n",
       "      <td>6</td>\n",
       "      <td>1</td>\n",
       "    </tr>\n",
       "    <tr>\n",
       "      <th>3</th>\n",
       "      <td>4</td>\n",
       "      <td>113</td>\n",
       "      <td>1</td>\n",
       "      <td>39</td>\n",
       "      <td>1135</td>\n",
       "      <td>18274</td>\n",
       "      <td>700</td>\n",
       "      <td>102</td>\n",
       "      <td>2021-05-05 08:18:00</td>\n",
       "      <td>0.1532</td>\n",
       "      <td>8</td>\n",
       "      <td>2</td>\n",
       "      <td>2021</td>\n",
       "      <td>5</td>\n",
       "      <td>5</td>\n",
       "    </tr>\n",
       "    <tr>\n",
       "      <th>4</th>\n",
       "      <td>5</td>\n",
       "      <td>113</td>\n",
       "      <td>1</td>\n",
       "      <td>77</td>\n",
       "      <td>57</td>\n",
       "      <td>34572</td>\n",
       "      <td>700</td>\n",
       "      <td>92</td>\n",
       "      <td>2021-06-20 06:52:00</td>\n",
       "      <td>0.1449</td>\n",
       "      <td>6</td>\n",
       "      <td>6</td>\n",
       "      <td>2021</td>\n",
       "      <td>6</td>\n",
       "      <td>20</td>\n",
       "    </tr>\n",
       "  </tbody>\n",
       "</table>\n",
       "</div>"
      ],
      "text/plain": [
       "   id  account  group   IP   url   port  vlan  switchIP                time  \\\n",
       "0   1      113      1   18   216  15788   700        44 2021-06-16 07:56:00   \n",
       "1   2      113      1  101   157  12665   700        91 2021-06-28 07:58:00   \n",
       "2   3      113      1   81   373  25551   700        44 2021-06-01 06:37:00   \n",
       "3   4      113      1   39  1135  18274   700       102 2021-05-05 08:18:00   \n",
       "4   5      113      1   77    57  34572   700        92 2021-06-20 06:52:00   \n",
       "\n",
       "      ret  hour  weekday  year  month  day  \n",
       "0  0.1149     7        2  2021      6   16  \n",
       "1  0.1801     7        0  2021      6   28  \n",
       "2  0.3690     6        1  2021      6    1  \n",
       "3  0.1532     8        2  2021      5    5  \n",
       "4  0.1449     6        6  2021      6   20  "
      ]
     },
     "execution_count": 12,
     "metadata": {},
     "output_type": "execute_result"
    }
   ],
   "source": [
    "# 查看编码后的数据集\n",
    "train_data.head()"
   ]
  },
  {
   "cell_type": "markdown",
   "id": "c8b1dd36",
   "metadata": {
    "papermill": {
     "duration": 0.013098,
     "end_time": "2023-03-12T14:12:52.466680",
     "exception": false,
     "start_time": "2023-03-12T14:12:52.453582",
     "status": "completed"
    },
    "pycharm": {
     "name": "#%% md\n"
    },
    "tags": []
   },
   "source": [
    "- 选取了'account', 'group', 'IP', 'url', 'port', 'vlan', 'switchIP', 'hour', 'weekday', 'year', 'month', 'day'字段作为训练的特征（features）。\n",
    "- 'ret'字段为想要预测的目标值/标签值（label）。\n",
    "- 我们将数据集划分为：训练集：测试集 = 0.75：0.25\n",
    "\n",
    "浅谈对所选特征的一些理解\n",
    "时间相关的标签 -- 上网时间不对 比如深夜上网？可能就会导致 ret升高\n",
    "url,IP -- 很好理解就不解释了\n",
    "port -- 哪有天天访问非正常的port的行为 如果说访问攻击机的port 就有可能出现异常行为"
   ]
  },
  {
   "cell_type": "code",
   "execution_count": 13,
   "id": "092c5800",
   "metadata": {
    "collapsed": false,
    "execution": {
     "iopub.execute_input": "2023-03-12T14:12:52.494479Z",
     "iopub.status.busy": "2023-03-12T14:12:52.493972Z",
     "iopub.status.idle": "2023-03-12T14:12:52.613266Z",
     "shell.execute_reply": "2023-03-12T14:12:52.611680Z"
    },
    "jupyter": {
     "outputs_hidden": false
    },
    "papermill": {
     "duration": 0.137192,
     "end_time": "2023-03-12T14:12:52.616806",
     "exception": false,
     "start_time": "2023-03-12T14:12:52.479614",
     "status": "completed"
    },
    "pycharm": {
     "name": "#%%\n"
    },
    "tags": []
   },
   "outputs": [],
   "source": [
    "data_X = train_data.loc[train_data.index[:], ['account', 'group', 'IP', 'url', 'port', 'vlan', 'switchIP', 'hour', 'weekday', 'year', 'month', 'day']]\n",
    "data_Y = train_data['ret']"
   ]
  },
  {
   "cell_type": "code",
   "execution_count": 14,
   "id": "6094cf06",
   "metadata": {
    "collapsed": false,
    "execution": {
     "iopub.execute_input": "2023-03-12T14:12:52.644966Z",
     "iopub.status.busy": "2023-03-12T14:12:52.644136Z",
     "iopub.status.idle": "2023-03-12T14:12:52.882330Z",
     "shell.execute_reply": "2023-03-12T14:12:52.880125Z"
    },
    "jupyter": {
     "outputs_hidden": false
    },
    "papermill": {
     "duration": 0.256498,
     "end_time": "2023-03-12T14:12:52.886313",
     "exception": false,
     "start_time": "2023-03-12T14:12:52.629815",
     "status": "completed"
    },
    "pycharm": {
     "name": "#%%\n"
    },
    "tags": []
   },
   "outputs": [
    {
     "name": "stdout",
     "output_type": "stream",
     "text": [
      "训练集的特征值：\n",
      "         account  group   IP   url   port  vlan  switchIP  hour  weekday  year  \\\n",
      "83071       101      3   40   544  25518  1200       120     0        4  2021   \n",
      "294361       56      4   69   597  36282  2000        70     1        2  2021   \n",
      "504243      130      6  123   201  25278   900       103     2        6  2021   \n",
      "285369       26      1   69   186  27548   700        83     0        6  2021   \n",
      "290928       26      1  104   472  28534   700        85    10        4  2021   \n",
      "...         ...    ...  ...   ...    ...   ...       ...   ...      ...   ...   \n",
      "138315       41      5   57   575  12875  1000        23     3        6  2021   \n",
      "457217      146      1   73  1060  14576   700       120     4        6  2021   \n",
      "349465       19      3   15   678  17365  1200       124     7        2  2021   \n",
      "195949        7      5  102  1166  13611  1000       120     0        1  2021   \n",
      "162698       80      6   13  1117  35643   900        67     6        3  2021   \n",
      "\n",
      "        month  day  \n",
      "83071       5   28  \n",
      "294361      5   19  \n",
      "504243      5    9  \n",
      "285369      6    6  \n",
      "290928      6   18  \n",
      "...       ...  ...  \n",
      "138315      5    9  \n",
      "457217      6   27  \n",
      "349465      5   19  \n",
      "195949      5   11  \n",
      "162698      5   13  \n",
      "\n",
      "[396517 rows x 12 columns] (396517, 12)\n",
      "测试集的标签值：\n",
      " 340855    0.5703\n",
      "508445    0.3863\n",
      "351295    0.1671\n",
      "295537    0.0325\n",
      "264053    0.0785\n",
      "           ...  \n",
      "31723     0.3392\n",
      "265930    0.0392\n",
      "461061    0.3912\n",
      "315802    0.3341\n",
      "91989     0.1708\n",
      "Name: ret, Length: 132173, dtype: float64 (132173,)\n",
      "The length of original data X is: 528690\n",
      "The length of train Data is: 396517\n",
      "The length of test Data is: 132173\n"
     ]
    }
   ],
   "source": [
    "from sklearn.model_selection import train_test_split\n",
    "# 数据集划分\n",
    "x_train, x_test, y_train, y_test = train_test_split(data_X, data_Y, test_size=0.25, random_state=6)\n",
    "print(\"训练集的特征值：\\n\", x_train, x_train.shape)\n",
    "print(\"测试集的标签值：\\n\", y_test, y_test.shape)\n",
    "\n",
    "print(\"The length of original data X is:\", data_X.shape[0])\n",
    "print(\"The length of train Data is:\", x_train.shape[0])\n",
    "print(\"The length of test Data is:\", x_test.shape[0])"
   ]
  },
  {
   "cell_type": "markdown",
   "id": "2d90efa6",
   "metadata": {
    "papermill": {
     "duration": 0.01274,
     "end_time": "2023-03-12T14:12:52.912896",
     "exception": false,
     "start_time": "2023-03-12T14:12:52.900156",
     "status": "completed"
    },
    "pycharm": {
     "name": "#%% md\n"
    },
    "tags": []
   },
   "source": [
    "训练集的特征数组（features）为二维数组，而训练集的标签数据（label）是一维数组，需要将其转变为二维数组再传入神经网络训练，保持维度一致，否则会报错"
   ]
  },
  {
   "cell_type": "code",
   "execution_count": 15,
   "id": "d6878247",
   "metadata": {
    "collapsed": false,
    "execution": {
     "iopub.execute_input": "2023-03-12T14:12:52.941308Z",
     "iopub.status.busy": "2023-03-12T14:12:52.940843Z",
     "iopub.status.idle": "2023-03-12T14:12:52.987542Z",
     "shell.execute_reply": "2023-03-12T14:12:52.986166Z"
    },
    "jupyter": {
     "outputs_hidden": false
    },
    "papermill": {
     "duration": 0.064507,
     "end_time": "2023-03-12T14:12:52.990643",
     "exception": false,
     "start_time": "2023-03-12T14:12:52.926136",
     "status": "completed"
    },
    "pycharm": {
     "name": "#%%\n"
    },
    "tags": []
   },
   "outputs": [],
   "source": [
    "x_train = np.array(x_train, dtype='float32')\n",
    "y_train = np.array(y_train, dtype='float32')"
   ]
  },
  {
   "cell_type": "code",
   "execution_count": 16,
   "id": "acbfc619",
   "metadata": {
    "collapsed": false,
    "execution": {
     "iopub.execute_input": "2023-03-12T14:12:53.018772Z",
     "iopub.status.busy": "2023-03-12T14:12:53.018302Z",
     "iopub.status.idle": "2023-03-12T14:12:53.027637Z",
     "shell.execute_reply": "2023-03-12T14:12:53.026316Z"
    },
    "jupyter": {
     "outputs_hidden": false
    },
    "papermill": {
     "duration": 0.026673,
     "end_time": "2023-03-12T14:12:53.030399",
     "exception": false,
     "start_time": "2023-03-12T14:12:53.003726",
     "status": "completed"
    },
    "pycharm": {
     "name": "#%%\n"
    },
    "tags": []
   },
   "outputs": [
    {
     "data": {
      "text/plain": [
       "array([0.1724, 0.0298, 0.0739, ..., 0.3177, 0.0929, 0.1663], dtype=float32)"
      ]
     },
     "execution_count": 16,
     "metadata": {},
     "output_type": "execute_result"
    }
   ],
   "source": [
    "y_train"
   ]
  },
  {
   "cell_type": "code",
   "execution_count": 17,
   "id": "3fbcd1d9",
   "metadata": {
    "collapsed": false,
    "execution": {
     "iopub.execute_input": "2023-03-12T14:12:53.059473Z",
     "iopub.status.busy": "2023-03-12T14:12:53.058187Z",
     "iopub.status.idle": "2023-03-12T14:12:53.065859Z",
     "shell.execute_reply": "2023-03-12T14:12:53.064910Z"
    },
    "jupyter": {
     "outputs_hidden": false
    },
    "papermill": {
     "duration": 0.024482,
     "end_time": "2023-03-12T14:12:53.068125",
     "exception": false,
     "start_time": "2023-03-12T14:12:53.043643",
     "status": "completed"
    },
    "pycharm": {
     "name": "#%%\n"
    },
    "tags": []
   },
   "outputs": [
    {
     "data": {
      "text/plain": [
       "array([[0.1724],\n",
       "       [0.0298],\n",
       "       [0.0739],\n",
       "       ...,\n",
       "       [0.3177],\n",
       "       [0.0929],\n",
       "       [0.1663]], dtype=float32)"
      ]
     },
     "execution_count": 17,
     "metadata": {},
     "output_type": "execute_result"
    }
   ],
   "source": [
    "y_train = y_train.reshape(-1,1)\n",
    "y_train"
   ]
  },
  {
   "cell_type": "code",
   "execution_count": 18,
   "id": "54d151a3",
   "metadata": {
    "collapsed": false,
    "execution": {
     "iopub.execute_input": "2023-03-12T14:12:53.097094Z",
     "iopub.status.busy": "2023-03-12T14:12:53.096282Z",
     "iopub.status.idle": "2023-03-12T14:12:53.105569Z",
     "shell.execute_reply": "2023-03-12T14:12:53.104318Z"
    },
    "jupyter": {
     "outputs_hidden": false
    },
    "papermill": {
     "duration": 0.027243,
     "end_time": "2023-03-12T14:12:53.108570",
     "exception": false,
     "start_time": "2023-03-12T14:12:53.081327",
     "status": "completed"
    },
    "pycharm": {
     "name": "#%%\n"
    },
    "tags": []
   },
   "outputs": [],
   "source": [
    "x_test = np.array(x_test, dtype='float32')\n",
    "y_test = np.array(y_test, dtype='float32')"
   ]
  },
  {
   "cell_type": "code",
   "execution_count": 19,
   "id": "e8e19830",
   "metadata": {
    "collapsed": false,
    "execution": {
     "iopub.execute_input": "2023-03-12T14:12:53.136999Z",
     "iopub.status.busy": "2023-03-12T14:12:53.136536Z",
     "iopub.status.idle": "2023-03-12T14:12:53.144707Z",
     "shell.execute_reply": "2023-03-12T14:12:53.143139Z"
    },
    "jupyter": {
     "outputs_hidden": false
    },
    "papermill": {
     "duration": 0.025624,
     "end_time": "2023-03-12T14:12:53.147434",
     "exception": false,
     "start_time": "2023-03-12T14:12:53.121810",
     "status": "completed"
    },
    "pycharm": {
     "name": "#%%\n"
    },
    "tags": []
   },
   "outputs": [
    {
     "data": {
      "text/plain": [
       "array([[0.5703],\n",
       "       [0.3863],\n",
       "       [0.1671],\n",
       "       ...,\n",
       "       [0.3912],\n",
       "       [0.3341],\n",
       "       [0.1708]], dtype=float32)"
      ]
     },
     "execution_count": 19,
     "metadata": {},
     "output_type": "execute_result"
    }
   ],
   "source": [
    "y_test = y_test.reshape(-1,1)\n",
    "y_test"
   ]
  },
  {
   "cell_type": "markdown",
   "id": "5a95ae61",
   "metadata": {
    "papermill": {
     "duration": 0.012783,
     "end_time": "2023-03-12T14:12:53.173449",
     "exception": false,
     "start_time": "2023-03-12T14:12:53.160666",
     "status": "completed"
    },
    "pycharm": {
     "name": "#%% md\n"
    },
    "tags": []
   },
   "source": [
    "我们对训练集和测试集的特征值进行了标准化"
   ]
  },
  {
   "cell_type": "code",
   "execution_count": 20,
   "id": "2d956ae4",
   "metadata": {
    "collapsed": false,
    "execution": {
     "iopub.execute_input": "2023-03-12T14:12:53.203387Z",
     "iopub.status.busy": "2023-03-12T14:12:53.202569Z",
     "iopub.status.idle": "2023-03-12T14:12:53.301798Z",
     "shell.execute_reply": "2023-03-12T14:12:53.300298Z"
    },
    "jupyter": {
     "outputs_hidden": false
    },
    "papermill": {
     "duration": 0.117273,
     "end_time": "2023-03-12T14:12:53.304616",
     "exception": false,
     "start_time": "2023-03-12T14:12:53.187343",
     "status": "completed"
    },
    "pycharm": {
     "name": "#%%\n"
    },
    "tags": []
   },
   "outputs": [],
   "source": [
    "# 标准化\n",
    "from sklearn.preprocessing import StandardScaler\n",
    "# 1. 实例化一个转换器类\n",
    "transfer = StandardScaler()\n",
    "# 2. 标准化\n",
    "x_train = transfer.fit_transform(x_train)\n",
    "x_test = transfer.fit_transform(x_test)"
   ]
  },
  {
   "cell_type": "code",
   "execution_count": 21,
   "id": "adf04cc7",
   "metadata": {
    "collapsed": false,
    "execution": {
     "iopub.execute_input": "2023-03-12T14:12:53.335289Z",
     "iopub.status.busy": "2023-03-12T14:12:53.334347Z",
     "iopub.status.idle": "2023-03-12T14:12:53.343629Z",
     "shell.execute_reply": "2023-03-12T14:12:53.341966Z"
    },
    "jupyter": {
     "outputs_hidden": false
    },
    "papermill": {
     "duration": 0.027854,
     "end_time": "2023-03-12T14:12:53.346348",
     "exception": false,
     "start_time": "2023-03-12T14:12:53.318494",
     "status": "completed"
    },
    "pycharm": {
     "name": "#%%\n"
    },
    "tags": []
   },
   "outputs": [
    {
     "data": {
      "text/plain": [
       "array([[ 0.5950775 , -0.09783325, -0.52306074, ...,  0.        ,\n",
       "        -0.9989819 ,  1.5538428 ],\n",
       "       [-0.4391312 ,  0.4092987 ,  0.21764496, ...,  0.        ,\n",
       "        -0.9989819 ,  0.478375  ],\n",
       "       [ 1.2615676 ,  1.4235625 ,  1.5968901 , ...,  0.        ,\n",
       "        -0.9989819 , -0.71658915],\n",
       "       ...,\n",
       "       [-1.2894806 , -0.09783325, -1.1616002 , ...,  0.        ,\n",
       "        -0.9989819 ,  0.478375  ],\n",
       "       [-1.5652696 ,  0.91643053,  1.060517  , ...,  0.        ,\n",
       "        -0.9989819 , -0.47759628],\n",
       "       [ 0.11244678,  1.4235625 , -1.2126833 , ...,  0.        ,\n",
       "        -0.9989819 , -0.23860347]], dtype=float32)"
      ]
     },
     "execution_count": 21,
     "metadata": {},
     "output_type": "execute_result"
    }
   ],
   "source": [
    "x_train"
   ]
  },
  {
   "cell_type": "markdown",
   "id": "76948675",
   "metadata": {
    "papermill": {
     "duration": 0.013759,
     "end_time": "2023-03-12T14:12:53.374076",
     "exception": false,
     "start_time": "2023-03-12T14:12:53.360317",
     "status": "completed"
    },
    "pycharm": {
     "name": "#%% md\n"
    },
    "tags": []
   },
   "source": [
    "因为只是baseline 随便写写啦\n",
    "但我们的标签是属于 [0,1]\n",
    "https://stackoverflow.com/questions/66626700/difference-between-tensorflows-tf-keras-layers-dense-and-pytorchs-torch-nn-lin"
   ]
  },
  {
   "cell_type": "code",
   "execution_count": 22,
   "id": "44413021",
   "metadata": {
    "collapsed": false,
    "execution": {
     "iopub.execute_input": "2023-03-12T14:12:53.404220Z",
     "iopub.status.busy": "2023-03-12T14:12:53.403800Z",
     "iopub.status.idle": "2023-03-12T14:12:53.412429Z",
     "shell.execute_reply": "2023-03-12T14:12:53.410990Z"
    },
    "jupyter": {
     "outputs_hidden": false
    },
    "papermill": {
     "duration": 0.027484,
     "end_time": "2023-03-12T14:12:53.415478",
     "exception": false,
     "start_time": "2023-03-12T14:12:53.387994",
     "status": "completed"
    },
    "pycharm": {
     "name": "#%%\n"
    },
    "tags": []
   },
   "outputs": [
    {
     "data": {
      "text/plain": [
       "(12,)"
      ]
     },
     "execution_count": 22,
     "metadata": {},
     "output_type": "execute_result"
    }
   ],
   "source": [
    "x_train[0].shape"
   ]
  },
  {
   "cell_type": "code",
   "execution_count": 23,
   "id": "825207b6",
   "metadata": {
    "collapsed": false,
    "execution": {
     "iopub.execute_input": "2023-03-12T14:12:53.445297Z",
     "iopub.status.busy": "2023-03-12T14:12:53.444826Z",
     "iopub.status.idle": "2023-03-12T14:13:03.065574Z",
     "shell.execute_reply": "2023-03-12T14:13:03.064078Z"
    },
    "jupyter": {
     "outputs_hidden": false
    },
    "papermill": {
     "duration": 9.643187,
     "end_time": "2023-03-12T14:13:03.073053",
     "exception": false,
     "start_time": "2023-03-12T14:12:53.429866",
     "status": "completed"
    },
    "pycharm": {
     "name": "#%%\n"
    },
    "tags": []
   },
   "outputs": [
    {
     "name": "stdout",
     "output_type": "stream",
     "text": [
      "Model: \"sequential\"\n",
      "_________________________________________________________________\n",
      " Layer (type)                Output Shape              Param #   \n",
      "=================================================================\n",
      " dense (Dense)               (None, 64)                832       \n",
      "                                                                 \n",
      " dense_1 (Dense)             (None, 128)               8320      \n",
      "                                                                 \n",
      " dense_2 (Dense)             (None, 32)                4128      \n",
      "                                                                 \n",
      " dense_3 (Dense)             (None, 8)                 264       \n",
      "                                                                 \n",
      " dense_4 (Dense)             (None, 1)                 9         \n",
      "                                                                 \n",
      "=================================================================\n",
      "Total params: 13,553\n",
      "Trainable params: 13,553\n",
      "Non-trainable params: 0\n",
      "_________________________________________________________________\n"
     ]
    }
   ],
   "source": [
    "import tensorflow as tf\n",
    "from keras.layers import LeakyReLU\n",
    "\n",
    "model = tf.keras.models.Sequential([\n",
    "    tf.keras.layers.Dense(64, input_shape=(12,),activation=tf.keras.layers.LeakyReLU(alpha=0.3)),\n",
    "    tf.keras.layers.Dense(128, input_shape=(64,),activation=tf.keras.layers.LeakyReLU(alpha=0.3)),\n",
    "    tf.keras.layers.Dense(32, input_shape=(128,),activation=tf.keras.layers.LeakyReLU(alpha=0.3)),\n",
    "    tf.keras.layers.Dense(8, input_shape=(32,),activation=tf.keras.layers.LeakyReLU(alpha=0.3)),\n",
    "    tf.keras.layers.Dense(1, input_shape=(8,),activation=\"tanh\"),\n",
    "])\n",
    "\n",
    "model.summary()"
   ]
  },
  {
   "cell_type": "code",
   "execution_count": 24,
   "id": "dbf44863",
   "metadata": {
    "collapsed": false,
    "execution": {
     "iopub.execute_input": "2023-03-12T14:13:03.104607Z",
     "iopub.status.busy": "2023-03-12T14:13:03.104137Z",
     "iopub.status.idle": "2023-03-12T14:13:03.161076Z",
     "shell.execute_reply": "2023-03-12T14:13:03.159827Z"
    },
    "jupyter": {
     "outputs_hidden": false
    },
    "papermill": {
     "duration": 0.076213,
     "end_time": "2023-03-12T14:13:03.163981",
     "exception": false,
     "start_time": "2023-03-12T14:13:03.087768",
     "status": "completed"
    },
    "pycharm": {
     "name": "#%%\n"
    },
    "tags": []
   },
   "outputs": [
    {
     "data": {
      "text/plain": [
       "array([[-0.10745475]], dtype=float32)"
      ]
     },
     "execution_count": 24,
     "metadata": {},
     "output_type": "execute_result"
    }
   ],
   "source": [
    "predictions = model(x_train[:1]).numpy()\n",
    "predictions"
   ]
  },
  {
   "cell_type": "code",
   "execution_count": 25,
   "id": "d07fd8d2",
   "metadata": {
    "collapsed": false,
    "execution": {
     "iopub.execute_input": "2023-03-12T14:13:03.196498Z",
     "iopub.status.busy": "2023-03-12T14:13:03.195910Z",
     "iopub.status.idle": "2023-03-12T14:13:03.218998Z",
     "shell.execute_reply": "2023-03-12T14:13:03.217644Z"
    },
    "jupyter": {
     "outputs_hidden": false
    },
    "papermill": {
     "duration": 0.042789,
     "end_time": "2023-03-12T14:13:03.222065",
     "exception": false,
     "start_time": "2023-03-12T14:13:03.179276",
     "status": "completed"
    },
    "pycharm": {
     "name": "#%%\n"
    },
    "tags": []
   },
   "outputs": [],
   "source": [
    "model.compile(optimizer=tf.keras.optimizers.Adam(learning_rate=0.001), loss=tf.keras.losses.MeanSquaredError(),)"
   ]
  },
  {
   "cell_type": "code",
   "execution_count": 26,
   "id": "9ad5f3cb",
   "metadata": {
    "collapsed": false,
    "execution": {
     "iopub.execute_input": "2023-03-12T14:13:03.253982Z",
     "iopub.status.busy": "2023-03-12T14:13:03.253547Z",
     "iopub.status.idle": "2023-03-12T17:20:26.569085Z",
     "shell.execute_reply": "2023-03-12T17:20:26.567524Z"
    },
    "jupyter": {
     "outputs_hidden": false
    },
    "papermill": {
     "duration": 11243.334631,
     "end_time": "2023-03-12T17:20:26.571542",
     "exception": false,
     "start_time": "2023-03-12T14:13:03.236911",
     "status": "completed"
    },
    "pycharm": {
     "name": "#%%\n"
    },
    "tags": []
   },
   "outputs": [
    {
     "name": "stdout",
     "output_type": "stream",
     "text": [
      "Epoch 1/500\n",
      "12392/12392 [==============================] - 26s 2ms/step - loss: 0.0266\n",
      "Epoch 2/500\n",
      "12392/12392 [==============================] - 25s 2ms/step - loss: 0.0235\n",
      "Epoch 3/500\n",
      "12392/12392 [==============================] - 25s 2ms/step - loss: 0.0221\n",
      "Epoch 4/500\n",
      "12392/12392 [==============================] - 23s 2ms/step - loss: 0.0215\n",
      "Epoch 5/500\n",
      "12392/12392 [==============================] - 24s 2ms/step - loss: 0.0209\n",
      "Epoch 6/500\n",
      "12392/12392 [==============================] - 25s 2ms/step - loss: 0.0204\n",
      "Epoch 7/500\n",
      "12392/12392 [==============================] - 25s 2ms/step - loss: 0.0201\n",
      "Epoch 8/500\n",
      "12392/12392 [==============================] - 25s 2ms/step - loss: 0.0198\n",
      "Epoch 9/500\n",
      "12392/12392 [==============================] - 22s 2ms/step - loss: 0.0196\n",
      "Epoch 10/500\n",
      "12392/12392 [==============================] - 23s 2ms/step - loss: 0.0194\n",
      "Epoch 11/500\n",
      "12392/12392 [==============================] - 23s 2ms/step - loss: 0.0192\n",
      "Epoch 12/500\n",
      "12392/12392 [==============================] - 22s 2ms/step - loss: 0.0190\n",
      "Epoch 13/500\n",
      "12392/12392 [==============================] - 23s 2ms/step - loss: 0.0189\n",
      "Epoch 14/500\n",
      "12392/12392 [==============================] - 23s 2ms/step - loss: 0.0187\n",
      "Epoch 15/500\n",
      "12392/12392 [==============================] - 23s 2ms/step - loss: 0.0186\n",
      "Epoch 16/500\n",
      "12392/12392 [==============================] - 23s 2ms/step - loss: 0.0185\n",
      "Epoch 17/500\n",
      "12392/12392 [==============================] - 23s 2ms/step - loss: 0.0184\n",
      "Epoch 18/500\n",
      "12392/12392 [==============================] - 25s 2ms/step - loss: 0.0184\n",
      "Epoch 19/500\n",
      "12392/12392 [==============================] - 25s 2ms/step - loss: 0.0183\n",
      "Epoch 20/500\n",
      "12392/12392 [==============================] - 25s 2ms/step - loss: 0.0182\n",
      "Epoch 21/500\n",
      "12392/12392 [==============================] - 24s 2ms/step - loss: 0.0181\n",
      "Epoch 22/500\n",
      "12392/12392 [==============================] - 22s 2ms/step - loss: 0.0180\n",
      "Epoch 23/500\n",
      "12392/12392 [==============================] - 23s 2ms/step - loss: 0.0180\n",
      "Epoch 24/500\n",
      "12392/12392 [==============================] - 23s 2ms/step - loss: 0.0179\n",
      "Epoch 25/500\n",
      "12392/12392 [==============================] - 22s 2ms/step - loss: 0.0179\n",
      "Epoch 26/500\n",
      "12392/12392 [==============================] - 23s 2ms/step - loss: 0.0178\n",
      "Epoch 27/500\n",
      "12392/12392 [==============================] - 22s 2ms/step - loss: 0.0178\n",
      "Epoch 28/500\n",
      "12392/12392 [==============================] - 23s 2ms/step - loss: 0.0178\n",
      "Epoch 29/500\n",
      "12392/12392 [==============================] - 23s 2ms/step - loss: 0.0177\n",
      "Epoch 30/500\n",
      "12392/12392 [==============================] - 22s 2ms/step - loss: 0.0177\n",
      "Epoch 31/500\n",
      "12392/12392 [==============================] - 23s 2ms/step - loss: 0.0176\n",
      "Epoch 32/500\n",
      "12392/12392 [==============================] - 24s 2ms/step - loss: 0.0176\n",
      "Epoch 33/500\n",
      "12392/12392 [==============================] - 25s 2ms/step - loss: 0.0176\n",
      "Epoch 34/500\n",
      "12392/12392 [==============================] - 24s 2ms/step - loss: 0.0175\n",
      "Epoch 35/500\n",
      "12392/12392 [==============================] - 22s 2ms/step - loss: 0.0175\n",
      "Epoch 36/500\n",
      "12392/12392 [==============================] - 24s 2ms/step - loss: 0.0174\n",
      "Epoch 37/500\n",
      "12392/12392 [==============================] - 23s 2ms/step - loss: 0.0174\n",
      "Epoch 38/500\n",
      "12392/12392 [==============================] - 22s 2ms/step - loss: 0.0174\n",
      "Epoch 39/500\n",
      "12392/12392 [==============================] - 22s 2ms/step - loss: 0.0173\n",
      "Epoch 40/500\n",
      "12392/12392 [==============================] - 22s 2ms/step - loss: 0.0173\n",
      "Epoch 41/500\n",
      "12392/12392 [==============================] - 22s 2ms/step - loss: 0.0173\n",
      "Epoch 42/500\n",
      "12392/12392 [==============================] - 23s 2ms/step - loss: 0.0173\n",
      "Epoch 43/500\n",
      "12392/12392 [==============================] - 23s 2ms/step - loss: 0.0172\n",
      "Epoch 44/500\n",
      "12392/12392 [==============================] - 24s 2ms/step - loss: 0.0172\n",
      "Epoch 45/500\n",
      "12392/12392 [==============================] - 24s 2ms/step - loss: 0.0172\n",
      "Epoch 46/500\n",
      "12392/12392 [==============================] - 23s 2ms/step - loss: 0.0172\n",
      "Epoch 47/500\n",
      "12392/12392 [==============================] - 23s 2ms/step - loss: 0.0171\n",
      "Epoch 48/500\n",
      "12392/12392 [==============================] - 22s 2ms/step - loss: 0.0171\n",
      "Epoch 49/500\n",
      "12392/12392 [==============================] - 22s 2ms/step - loss: 0.0170\n",
      "Epoch 50/500\n",
      "12392/12392 [==============================] - 22s 2ms/step - loss: 0.0170\n",
      "Epoch 51/500\n",
      "12392/12392 [==============================] - 22s 2ms/step - loss: 0.0170\n",
      "Epoch 52/500\n",
      "12392/12392 [==============================] - 22s 2ms/step - loss: 0.0170\n",
      "Epoch 53/500\n",
      "12392/12392 [==============================] - 22s 2ms/step - loss: 0.0170\n",
      "Epoch 54/500\n",
      "12392/12392 [==============================] - 22s 2ms/step - loss: 0.0170\n",
      "Epoch 55/500\n",
      "12392/12392 [==============================] - 22s 2ms/step - loss: 0.0169\n",
      "Epoch 56/500\n",
      "12392/12392 [==============================] - 22s 2ms/step - loss: 0.0169\n",
      "Epoch 57/500\n",
      "12392/12392 [==============================] - 22s 2ms/step - loss: 0.0169\n",
      "Epoch 58/500\n",
      "12392/12392 [==============================] - 22s 2ms/step - loss: 0.0169\n",
      "Epoch 59/500\n",
      "12392/12392 [==============================] - 23s 2ms/step - loss: 0.0169\n",
      "Epoch 60/500\n",
      "12392/12392 [==============================] - 24s 2ms/step - loss: 0.0168\n",
      "Epoch 61/500\n",
      "12392/12392 [==============================] - 23s 2ms/step - loss: 0.0168\n",
      "Epoch 62/500\n",
      "12392/12392 [==============================] - 21s 2ms/step - loss: 0.0168\n",
      "Epoch 63/500\n",
      "12392/12392 [==============================] - 23s 2ms/step - loss: 0.0168\n",
      "Epoch 64/500\n",
      "12392/12392 [==============================] - 23s 2ms/step - loss: 0.0168\n",
      "Epoch 65/500\n",
      "12392/12392 [==============================] - 22s 2ms/step - loss: 0.0168\n",
      "Epoch 66/500\n",
      "12392/12392 [==============================] - 22s 2ms/step - loss: 0.0167\n",
      "Epoch 67/500\n",
      "12392/12392 [==============================] - 22s 2ms/step - loss: 0.0167\n",
      "Epoch 68/500\n",
      "12392/12392 [==============================] - 23s 2ms/step - loss: 0.0167\n",
      "Epoch 69/500\n",
      "12392/12392 [==============================] - 23s 2ms/step - loss: 0.0167\n",
      "Epoch 70/500\n",
      "12392/12392 [==============================] - 22s 2ms/step - loss: 0.0167\n",
      "Epoch 71/500\n",
      "12392/12392 [==============================] - 23s 2ms/step - loss: 0.0167\n",
      "Epoch 72/500\n",
      "12392/12392 [==============================] - 23s 2ms/step - loss: 0.0166\n",
      "Epoch 73/500\n",
      "12392/12392 [==============================] - 25s 2ms/step - loss: 0.0166\n",
      "Epoch 74/500\n",
      "12392/12392 [==============================] - 23s 2ms/step - loss: 0.0166\n",
      "Epoch 75/500\n",
      "12392/12392 [==============================] - 22s 2ms/step - loss: 0.0166\n",
      "Epoch 76/500\n",
      "12392/12392 [==============================] - 22s 2ms/step - loss: 0.0166\n",
      "Epoch 77/500\n",
      "12392/12392 [==============================] - 22s 2ms/step - loss: 0.0166\n",
      "Epoch 78/500\n",
      "12392/12392 [==============================] - 23s 2ms/step - loss: 0.0165\n",
      "Epoch 79/500\n",
      "12392/12392 [==============================] - 23s 2ms/step - loss: 0.0165\n",
      "Epoch 80/500\n",
      "12392/12392 [==============================] - 24s 2ms/step - loss: 0.0165\n",
      "Epoch 81/500\n",
      "12392/12392 [==============================] - 24s 2ms/step - loss: 0.0165\n",
      "Epoch 82/500\n",
      "12392/12392 [==============================] - 22s 2ms/step - loss: 0.0165\n",
      "Epoch 83/500\n",
      "12392/12392 [==============================] - 23s 2ms/step - loss: 0.0165\n",
      "Epoch 84/500\n",
      "12392/12392 [==============================] - 23s 2ms/step - loss: 0.0165\n",
      "Epoch 85/500\n",
      "12392/12392 [==============================] - 22s 2ms/step - loss: 0.0165\n",
      "Epoch 86/500\n",
      "12392/12392 [==============================] - 22s 2ms/step - loss: 0.0164\n",
      "Epoch 87/500\n",
      "12392/12392 [==============================] - 22s 2ms/step - loss: 0.0164\n",
      "Epoch 88/500\n",
      "12392/12392 [==============================] - 22s 2ms/step - loss: 0.0164\n",
      "Epoch 89/500\n",
      "12392/12392 [==============================] - 22s 2ms/step - loss: 0.0164\n",
      "Epoch 90/500\n",
      "12392/12392 [==============================] - 22s 2ms/step - loss: 0.0164\n",
      "Epoch 91/500\n",
      "12392/12392 [==============================] - 21s 2ms/step - loss: 0.0164\n",
      "Epoch 92/500\n",
      "12392/12392 [==============================] - 22s 2ms/step - loss: 0.0164\n",
      "Epoch 93/500\n",
      "12392/12392 [==============================] - 22s 2ms/step - loss: 0.0164\n",
      "Epoch 94/500\n",
      "12392/12392 [==============================] - 22s 2ms/step - loss: 0.0163\n",
      "Epoch 95/500\n",
      "12392/12392 [==============================] - 22s 2ms/step - loss: 0.0163\n",
      "Epoch 96/500\n",
      "12392/12392 [==============================] - 22s 2ms/step - loss: 0.0163\n",
      "Epoch 97/500\n",
      "12392/12392 [==============================] - 22s 2ms/step - loss: 0.0163\n",
      "Epoch 98/500\n",
      "12392/12392 [==============================] - 22s 2ms/step - loss: 0.0163\n",
      "Epoch 99/500\n",
      "12392/12392 [==============================] - 22s 2ms/step - loss: 0.0163\n",
      "Epoch 100/500\n",
      "12392/12392 [==============================] - 21s 2ms/step - loss: 0.0163\n",
      "Epoch 101/500\n",
      "12392/12392 [==============================] - 22s 2ms/step - loss: 0.0163\n",
      "Epoch 102/500\n",
      "12392/12392 [==============================] - 22s 2ms/step - loss: 0.0162\n",
      "Epoch 103/500\n",
      "12392/12392 [==============================] - 21s 2ms/step - loss: 0.0162\n",
      "Epoch 104/500\n",
      "12392/12392 [==============================] - 22s 2ms/step - loss: 0.0163\n",
      "Epoch 105/500\n",
      "12392/12392 [==============================] - 22s 2ms/step - loss: 0.0162\n",
      "Epoch 106/500\n",
      "12392/12392 [==============================] - 22s 2ms/step - loss: 0.0162\n",
      "Epoch 107/500\n",
      "12392/12392 [==============================] - 22s 2ms/step - loss: 0.0162\n",
      "Epoch 108/500\n",
      "12392/12392 [==============================] - 22s 2ms/step - loss: 0.0162\n",
      "Epoch 109/500\n",
      "12392/12392 [==============================] - 23s 2ms/step - loss: 0.0162\n",
      "Epoch 110/500\n",
      "12392/12392 [==============================] - 22s 2ms/step - loss: 0.0162\n",
      "Epoch 111/500\n",
      "12392/12392 [==============================] - 22s 2ms/step - loss: 0.0162\n",
      "Epoch 112/500\n",
      "12392/12392 [==============================] - 22s 2ms/step - loss: 0.0161\n",
      "Epoch 113/500\n",
      "12392/12392 [==============================] - 22s 2ms/step - loss: 0.0161\n",
      "Epoch 114/500\n",
      "12392/12392 [==============================] - 22s 2ms/step - loss: 0.0161\n",
      "Epoch 115/500\n",
      "12392/12392 [==============================] - 22s 2ms/step - loss: 0.0161\n",
      "Epoch 116/500\n",
      "12392/12392 [==============================] - 22s 2ms/step - loss: 0.0161\n",
      "Epoch 117/500\n",
      "12392/12392 [==============================] - 22s 2ms/step - loss: 0.0161\n",
      "Epoch 118/500\n",
      "12392/12392 [==============================] - 22s 2ms/step - loss: 0.0161\n",
      "Epoch 119/500\n",
      "12392/12392 [==============================] - 22s 2ms/step - loss: 0.0161\n",
      "Epoch 120/500\n",
      "12392/12392 [==============================] - 22s 2ms/step - loss: 0.0161\n",
      "Epoch 121/500\n",
      "12392/12392 [==============================] - 22s 2ms/step - loss: 0.0161\n",
      "Epoch 122/500\n",
      "12392/12392 [==============================] - 22s 2ms/step - loss: 0.0161\n",
      "Epoch 123/500\n",
      "12392/12392 [==============================] - 22s 2ms/step - loss: 0.0160\n",
      "Epoch 124/500\n",
      "12392/12392 [==============================] - 22s 2ms/step - loss: 0.0161\n",
      "Epoch 125/500\n",
      "12392/12392 [==============================] - 22s 2ms/step - loss: 0.0160\n",
      "Epoch 126/500\n",
      "12392/12392 [==============================] - 22s 2ms/step - loss: 0.0160\n",
      "Epoch 127/500\n",
      "12392/12392 [==============================] - 22s 2ms/step - loss: 0.0160\n",
      "Epoch 128/500\n",
      "12392/12392 [==============================] - 22s 2ms/step - loss: 0.0160\n",
      "Epoch 129/500\n",
      "12392/12392 [==============================] - 22s 2ms/step - loss: 0.0160\n",
      "Epoch 130/500\n",
      "12392/12392 [==============================] - 22s 2ms/step - loss: 0.0160\n",
      "Epoch 131/500\n",
      "12392/12392 [==============================] - 22s 2ms/step - loss: 0.0160\n",
      "Epoch 132/500\n",
      "12392/12392 [==============================] - 22s 2ms/step - loss: 0.0160\n",
      "Epoch 133/500\n",
      "12392/12392 [==============================] - 22s 2ms/step - loss: 0.0160\n",
      "Epoch 134/500\n",
      "12392/12392 [==============================] - 22s 2ms/step - loss: 0.0160\n",
      "Epoch 135/500\n",
      "12392/12392 [==============================] - 22s 2ms/step - loss: 0.0160\n",
      "Epoch 136/500\n",
      "12392/12392 [==============================] - 22s 2ms/step - loss: 0.0160\n",
      "Epoch 137/500\n",
      "12392/12392 [==============================] - 23s 2ms/step - loss: 0.0159\n",
      "Epoch 138/500\n",
      "12392/12392 [==============================] - 23s 2ms/step - loss: 0.0159\n",
      "Epoch 139/500\n",
      "12392/12392 [==============================] - 22s 2ms/step - loss: 0.0159\n",
      "Epoch 140/500\n",
      "12392/12392 [==============================] - 22s 2ms/step - loss: 0.0159\n",
      "Epoch 141/500\n",
      "12392/12392 [==============================] - 22s 2ms/step - loss: 0.0159\n",
      "Epoch 142/500\n",
      "12392/12392 [==============================] - 22s 2ms/step - loss: 0.0159\n",
      "Epoch 143/500\n",
      "12392/12392 [==============================] - 22s 2ms/step - loss: 0.0159\n",
      "Epoch 144/500\n",
      "12392/12392 [==============================] - 22s 2ms/step - loss: 0.0159\n",
      "Epoch 145/500\n",
      "12392/12392 [==============================] - 22s 2ms/step - loss: 0.0159\n",
      "Epoch 146/500\n",
      "12392/12392 [==============================] - 22s 2ms/step - loss: 0.0159\n",
      "Epoch 147/500\n",
      "12392/12392 [==============================] - 22s 2ms/step - loss: 0.0159\n",
      "Epoch 148/500\n",
      "12392/12392 [==============================] - 22s 2ms/step - loss: 0.0159\n",
      "Epoch 149/500\n",
      "12392/12392 [==============================] - 23s 2ms/step - loss: 0.0159\n",
      "Epoch 150/500\n",
      "12392/12392 [==============================] - 22s 2ms/step - loss: 0.0159\n",
      "Epoch 151/500\n",
      "12392/12392 [==============================] - 22s 2ms/step - loss: 0.0158\n",
      "Epoch 152/500\n",
      "12392/12392 [==============================] - 22s 2ms/step - loss: 0.0158\n",
      "Epoch 153/500\n",
      "12392/12392 [==============================] - 22s 2ms/step - loss: 0.0158\n",
      "Epoch 154/500\n",
      "12392/12392 [==============================] - 23s 2ms/step - loss: 0.0158\n",
      "Epoch 155/500\n",
      "12392/12392 [==============================] - 22s 2ms/step - loss: 0.0158\n",
      "Epoch 156/500\n",
      "12392/12392 [==============================] - 22s 2ms/step - loss: 0.0158\n",
      "Epoch 157/500\n",
      "12392/12392 [==============================] - 22s 2ms/step - loss: 0.0158\n",
      "Epoch 158/500\n",
      "12392/12392 [==============================] - 22s 2ms/step - loss: 0.0158\n",
      "Epoch 159/500\n",
      "12392/12392 [==============================] - 22s 2ms/step - loss: 0.0158\n",
      "Epoch 160/500\n",
      "12392/12392 [==============================] - 22s 2ms/step - loss: 0.0158\n",
      "Epoch 161/500\n",
      "12392/12392 [==============================] - 23s 2ms/step - loss: 0.0158\n",
      "Epoch 162/500\n",
      "12392/12392 [==============================] - 23s 2ms/step - loss: 0.0158\n",
      "Epoch 163/500\n",
      "12392/12392 [==============================] - 22s 2ms/step - loss: 0.0157\n",
      "Epoch 164/500\n",
      "12392/12392 [==============================] - 22s 2ms/step - loss: 0.0158\n",
      "Epoch 165/500\n",
      "12392/12392 [==============================] - 22s 2ms/step - loss: 0.0157\n",
      "Epoch 166/500\n",
      "12392/12392 [==============================] - 23s 2ms/step - loss: 0.0157\n",
      "Epoch 167/500\n",
      "12392/12392 [==============================] - 23s 2ms/step - loss: 0.0157\n",
      "Epoch 168/500\n",
      "12392/12392 [==============================] - 23s 2ms/step - loss: 0.0157\n",
      "Epoch 169/500\n",
      "12392/12392 [==============================] - 23s 2ms/step - loss: 0.0157\n",
      "Epoch 170/500\n",
      "12392/12392 [==============================] - 23s 2ms/step - loss: 0.0157\n",
      "Epoch 171/500\n",
      "12392/12392 [==============================] - 23s 2ms/step - loss: 0.0157\n",
      "Epoch 172/500\n",
      "12392/12392 [==============================] - 23s 2ms/step - loss: 0.0157\n",
      "Epoch 173/500\n",
      "12392/12392 [==============================] - 24s 2ms/step - loss: 0.0157\n",
      "Epoch 174/500\n",
      "12392/12392 [==============================] - 23s 2ms/step - loss: 0.0157\n",
      "Epoch 175/500\n",
      "12392/12392 [==============================] - 23s 2ms/step - loss: 0.0157\n",
      "Epoch 176/500\n",
      "12392/12392 [==============================] - 22s 2ms/step - loss: 0.0157\n",
      "Epoch 177/500\n",
      "12392/12392 [==============================] - 22s 2ms/step - loss: 0.0157\n",
      "Epoch 178/500\n",
      "12392/12392 [==============================] - 23s 2ms/step - loss: 0.0156\n",
      "Epoch 179/500\n",
      "12392/12392 [==============================] - 22s 2ms/step - loss: 0.0157\n",
      "Epoch 180/500\n",
      "12392/12392 [==============================] - 22s 2ms/step - loss: 0.0156\n",
      "Epoch 181/500\n",
      "12392/12392 [==============================] - 22s 2ms/step - loss: 0.0156\n",
      "Epoch 182/500\n",
      "12392/12392 [==============================] - 22s 2ms/step - loss: 0.0156\n",
      "Epoch 183/500\n",
      "12392/12392 [==============================] - 22s 2ms/step - loss: 0.0156\n",
      "Epoch 184/500\n",
      "12392/12392 [==============================] - 22s 2ms/step - loss: 0.0156\n",
      "Epoch 185/500\n",
      "12392/12392 [==============================] - 22s 2ms/step - loss: 0.0156\n",
      "Epoch 186/500\n",
      "12392/12392 [==============================] - 22s 2ms/step - loss: 0.0156\n",
      "Epoch 187/500\n",
      "12392/12392 [==============================] - 22s 2ms/step - loss: 0.0156\n",
      "Epoch 188/500\n",
      "12392/12392 [==============================] - 22s 2ms/step - loss: 0.0156\n",
      "Epoch 189/500\n",
      "12392/12392 [==============================] - 22s 2ms/step - loss: 0.0156\n",
      "Epoch 190/500\n",
      "12392/12392 [==============================] - 22s 2ms/step - loss: 0.0156\n",
      "Epoch 191/500\n",
      "12392/12392 [==============================] - 22s 2ms/step - loss: 0.0156\n",
      "Epoch 192/500\n",
      "12392/12392 [==============================] - 22s 2ms/step - loss: 0.0156\n",
      "Epoch 193/500\n",
      "12392/12392 [==============================] - 24s 2ms/step - loss: 0.0156\n",
      "Epoch 194/500\n",
      "12392/12392 [==============================] - 23s 2ms/step - loss: 0.0156\n",
      "Epoch 195/500\n",
      "12392/12392 [==============================] - 24s 2ms/step - loss: 0.0155\n",
      "Epoch 196/500\n",
      "12392/12392 [==============================] - 22s 2ms/step - loss: 0.0156\n",
      "Epoch 197/500\n",
      "12392/12392 [==============================] - 23s 2ms/step - loss: 0.0155\n",
      "Epoch 198/500\n",
      "12392/12392 [==============================] - 23s 2ms/step - loss: 0.0155\n",
      "Epoch 199/500\n",
      "12392/12392 [==============================] - 22s 2ms/step - loss: 0.0156\n",
      "Epoch 200/500\n",
      "12392/12392 [==============================] - 23s 2ms/step - loss: 0.0155\n",
      "Epoch 201/500\n",
      "12392/12392 [==============================] - 23s 2ms/step - loss: 0.0155\n",
      "Epoch 202/500\n",
      "12392/12392 [==============================] - 22s 2ms/step - loss: 0.0155\n",
      "Epoch 203/500\n",
      "12392/12392 [==============================] - 24s 2ms/step - loss: 0.0155\n",
      "Epoch 204/500\n",
      "12392/12392 [==============================] - 23s 2ms/step - loss: 0.0155\n",
      "Epoch 205/500\n",
      "12392/12392 [==============================] - 23s 2ms/step - loss: 0.0155\n",
      "Epoch 206/500\n",
      "12392/12392 [==============================] - 23s 2ms/step - loss: 0.0155\n",
      "Epoch 207/500\n",
      "12392/12392 [==============================] - 23s 2ms/step - loss: 0.0155\n",
      "Epoch 208/500\n",
      "12392/12392 [==============================] - 22s 2ms/step - loss: 0.0155\n",
      "Epoch 209/500\n",
      "12392/12392 [==============================] - 21s 2ms/step - loss: 0.0155\n",
      "Epoch 210/500\n",
      "12392/12392 [==============================] - 22s 2ms/step - loss: 0.0155\n",
      "Epoch 211/500\n",
      "12392/12392 [==============================] - 22s 2ms/step - loss: 0.0155\n",
      "Epoch 212/500\n",
      "12392/12392 [==============================] - 21s 2ms/step - loss: 0.0155\n",
      "Epoch 213/500\n",
      "12392/12392 [==============================] - 22s 2ms/step - loss: 0.0155\n",
      "Epoch 214/500\n",
      "12392/12392 [==============================] - 22s 2ms/step - loss: 0.0155\n",
      "Epoch 215/500\n",
      "12392/12392 [==============================] - 21s 2ms/step - loss: 0.0155\n",
      "Epoch 216/500\n",
      "12392/12392 [==============================] - 21s 2ms/step - loss: 0.0154\n",
      "Epoch 217/500\n",
      "12392/12392 [==============================] - 22s 2ms/step - loss: 0.0154\n",
      "Epoch 218/500\n",
      "12392/12392 [==============================] - 22s 2ms/step - loss: 0.0154\n",
      "Epoch 219/500\n",
      "12392/12392 [==============================] - 22s 2ms/step - loss: 0.0154\n",
      "Epoch 220/500\n",
      "12392/12392 [==============================] - 23s 2ms/step - loss: 0.0154\n",
      "Epoch 221/500\n",
      "12392/12392 [==============================] - 22s 2ms/step - loss: 0.0154\n",
      "Epoch 222/500\n",
      "12392/12392 [==============================] - 22s 2ms/step - loss: 0.0154\n",
      "Epoch 223/500\n",
      "12392/12392 [==============================] - 22s 2ms/step - loss: 0.0154\n",
      "Epoch 224/500\n",
      "12392/12392 [==============================] - 22s 2ms/step - loss: 0.0154\n",
      "Epoch 225/500\n",
      "12392/12392 [==============================] - 22s 2ms/step - loss: 0.0154\n",
      "Epoch 226/500\n",
      "12392/12392 [==============================] - 22s 2ms/step - loss: 0.0154\n",
      "Epoch 227/500\n",
      "12392/12392 [==============================] - 22s 2ms/step - loss: 0.0154\n",
      "Epoch 228/500\n",
      "12392/12392 [==============================] - 22s 2ms/step - loss: 0.0153\n",
      "Epoch 229/500\n",
      "12392/12392 [==============================] - 22s 2ms/step - loss: 0.0154\n",
      "Epoch 230/500\n",
      "12392/12392 [==============================] - 22s 2ms/step - loss: 0.0153\n",
      "Epoch 231/500\n",
      "12392/12392 [==============================] - 22s 2ms/step - loss: 0.0154\n",
      "Epoch 232/500\n",
      "12392/12392 [==============================] - 23s 2ms/step - loss: 0.0153\n",
      "Epoch 233/500\n",
      "12392/12392 [==============================] - 22s 2ms/step - loss: 0.0153\n",
      "Epoch 234/500\n",
      "12392/12392 [==============================] - 22s 2ms/step - loss: 0.0153\n",
      "Epoch 235/500\n",
      "12392/12392 [==============================] - 23s 2ms/step - loss: 0.0153\n",
      "Epoch 236/500\n",
      "12392/12392 [==============================] - 22s 2ms/step - loss: 0.0153\n",
      "Epoch 237/500\n",
      "12392/12392 [==============================] - 22s 2ms/step - loss: 0.0153\n",
      "Epoch 238/500\n",
      "12392/12392 [==============================] - 23s 2ms/step - loss: 0.0153\n",
      "Epoch 239/500\n",
      "12392/12392 [==============================] - 22s 2ms/step - loss: 0.0153\n",
      "Epoch 240/500\n",
      "12392/12392 [==============================] - 22s 2ms/step - loss: 0.0153\n",
      "Epoch 241/500\n",
      "12392/12392 [==============================] - 23s 2ms/step - loss: 0.0153\n",
      "Epoch 242/500\n",
      "12392/12392 [==============================] - 22s 2ms/step - loss: 0.0153\n",
      "Epoch 243/500\n",
      "12392/12392 [==============================] - 22s 2ms/step - loss: 0.0153\n",
      "Epoch 244/500\n",
      "12392/12392 [==============================] - 22s 2ms/step - loss: 0.0153\n",
      "Epoch 245/500\n",
      "12392/12392 [==============================] - 22s 2ms/step - loss: 0.0153\n",
      "Epoch 246/500\n",
      "12392/12392 [==============================] - 22s 2ms/step - loss: 0.0153\n",
      "Epoch 247/500\n",
      "12392/12392 [==============================] - 22s 2ms/step - loss: 0.0153\n",
      "Epoch 248/500\n",
      "12392/12392 [==============================] - 23s 2ms/step - loss: 0.0152\n",
      "Epoch 249/500\n",
      "12392/12392 [==============================] - 22s 2ms/step - loss: 0.0152\n",
      "Epoch 250/500\n",
      "12392/12392 [==============================] - 22s 2ms/step - loss: 0.0152\n",
      "Epoch 251/500\n",
      "12392/12392 [==============================] - 23s 2ms/step - loss: 0.0153\n",
      "Epoch 252/500\n",
      "12392/12392 [==============================] - 22s 2ms/step - loss: 0.0153\n",
      "Epoch 253/500\n",
      "12392/12392 [==============================] - 21s 2ms/step - loss: 0.0153\n",
      "Epoch 254/500\n",
      "12392/12392 [==============================] - 22s 2ms/step - loss: 0.0152\n",
      "Epoch 255/500\n",
      "12392/12392 [==============================] - 22s 2ms/step - loss: 0.0152\n",
      "Epoch 256/500\n",
      "12392/12392 [==============================] - 22s 2ms/step - loss: 0.0152\n",
      "Epoch 257/500\n",
      "12392/12392 [==============================] - 23s 2ms/step - loss: 0.0152\n",
      "Epoch 258/500\n",
      "12392/12392 [==============================] - 22s 2ms/step - loss: 0.0152\n",
      "Epoch 259/500\n",
      "12392/12392 [==============================] - 21s 2ms/step - loss: 0.0152\n",
      "Epoch 260/500\n",
      "12392/12392 [==============================] - 23s 2ms/step - loss: 0.0152\n",
      "Epoch 261/500\n",
      "12392/12392 [==============================] - 22s 2ms/step - loss: 0.0152\n",
      "Epoch 262/500\n",
      "12392/12392 [==============================] - 22s 2ms/step - loss: 0.0152\n",
      "Epoch 263/500\n",
      "12392/12392 [==============================] - 23s 2ms/step - loss: 0.0152\n",
      "Epoch 264/500\n",
      "12392/12392 [==============================] - 22s 2ms/step - loss: 0.0152\n",
      "Epoch 265/500\n",
      "12392/12392 [==============================] - 22s 2ms/step - loss: 0.0152\n",
      "Epoch 266/500\n",
      "12392/12392 [==============================] - 22s 2ms/step - loss: 0.0152\n",
      "Epoch 267/500\n",
      "12392/12392 [==============================] - 23s 2ms/step - loss: 0.0152\n",
      "Epoch 268/500\n",
      "12392/12392 [==============================] - 22s 2ms/step - loss: 0.0152\n",
      "Epoch 269/500\n",
      "12392/12392 [==============================] - 22s 2ms/step - loss: 0.0152\n",
      "Epoch 270/500\n",
      "12392/12392 [==============================] - 23s 2ms/step - loss: 0.0152\n",
      "Epoch 271/500\n",
      "12392/12392 [==============================] - 22s 2ms/step - loss: 0.0152\n",
      "Epoch 272/500\n",
      "12392/12392 [==============================] - 21s 2ms/step - loss: 0.0152\n",
      "Epoch 273/500\n",
      "12392/12392 [==============================] - 23s 2ms/step - loss: 0.0151\n",
      "Epoch 274/500\n",
      "12392/12392 [==============================] - 22s 2ms/step - loss: 0.0152\n",
      "Epoch 275/500\n",
      "12392/12392 [==============================] - 22s 2ms/step - loss: 0.0151\n",
      "Epoch 276/500\n",
      "12392/12392 [==============================] - 23s 2ms/step - loss: 0.0151\n",
      "Epoch 277/500\n",
      "12392/12392 [==============================] - 22s 2ms/step - loss: 0.0151\n",
      "Epoch 278/500\n",
      "12392/12392 [==============================] - 22s 2ms/step - loss: 0.0151\n",
      "Epoch 279/500\n",
      "12392/12392 [==============================] - 23s 2ms/step - loss: 0.0151\n",
      "Epoch 280/500\n",
      "12392/12392 [==============================] - 22s 2ms/step - loss: 0.0151\n",
      "Epoch 281/500\n",
      "12392/12392 [==============================] - 22s 2ms/step - loss: 0.0151\n",
      "Epoch 282/500\n",
      "12392/12392 [==============================] - 23s 2ms/step - loss: 0.0151\n",
      "Epoch 283/500\n",
      "12392/12392 [==============================] - 22s 2ms/step - loss: 0.0151\n",
      "Epoch 284/500\n",
      "12392/12392 [==============================] - 22s 2ms/step - loss: 0.0151\n",
      "Epoch 285/500\n",
      "12392/12392 [==============================] - 23s 2ms/step - loss: 0.0151\n",
      "Epoch 286/500\n",
      "12392/12392 [==============================] - 22s 2ms/step - loss: 0.0151\n",
      "Epoch 287/500\n",
      "12392/12392 [==============================] - 23s 2ms/step - loss: 0.0151\n",
      "Epoch 288/500\n",
      "12392/12392 [==============================] - 23s 2ms/step - loss: 0.0151\n",
      "Epoch 289/500\n",
      "12392/12392 [==============================] - 23s 2ms/step - loss: 0.0151\n",
      "Epoch 290/500\n",
      "12392/12392 [==============================] - 22s 2ms/step - loss: 0.0151\n",
      "Epoch 291/500\n",
      "12392/12392 [==============================] - 22s 2ms/step - loss: 0.0151\n",
      "Epoch 292/500\n",
      "12392/12392 [==============================] - 23s 2ms/step - loss: 0.0150\n",
      "Epoch 293/500\n",
      "12392/12392 [==============================] - 22s 2ms/step - loss: 0.0151\n",
      "Epoch 294/500\n",
      "12392/12392 [==============================] - 22s 2ms/step - loss: 0.0151\n",
      "Epoch 295/500\n",
      "12392/12392 [==============================] - 24s 2ms/step - loss: 0.0151\n",
      "Epoch 296/500\n",
      "12392/12392 [==============================] - 22s 2ms/step - loss: 0.0151\n",
      "Epoch 297/500\n",
      "12392/12392 [==============================] - 22s 2ms/step - loss: 0.0151\n",
      "Epoch 298/500\n",
      "12392/12392 [==============================] - 23s 2ms/step - loss: 0.0150\n",
      "Epoch 299/500\n",
      "12392/12392 [==============================] - 22s 2ms/step - loss: 0.0150\n",
      "Epoch 300/500\n",
      "12392/12392 [==============================] - 22s 2ms/step - loss: 0.0150\n",
      "Epoch 301/500\n",
      "12392/12392 [==============================] - 24s 2ms/step - loss: 0.0150\n",
      "Epoch 302/500\n",
      "12392/12392 [==============================] - 22s 2ms/step - loss: 0.0150\n",
      "Epoch 303/500\n",
      "12392/12392 [==============================] - 22s 2ms/step - loss: 0.0150\n",
      "Epoch 304/500\n",
      "12392/12392 [==============================] - 23s 2ms/step - loss: 0.0150\n",
      "Epoch 305/500\n",
      "12392/12392 [==============================] - 22s 2ms/step - loss: 0.0150\n",
      "Epoch 306/500\n",
      "12392/12392 [==============================] - 22s 2ms/step - loss: 0.0150\n",
      "Epoch 307/500\n",
      "12392/12392 [==============================] - 22s 2ms/step - loss: 0.0150\n",
      "Epoch 308/500\n",
      "12392/12392 [==============================] - 23s 2ms/step - loss: 0.0150\n",
      "Epoch 309/500\n",
      "12392/12392 [==============================] - 22s 2ms/step - loss: 0.0150\n",
      "Epoch 310/500\n",
      "12392/12392 [==============================] - 22s 2ms/step - loss: 0.0150\n",
      "Epoch 311/500\n",
      "12392/12392 [==============================] - 23s 2ms/step - loss: 0.0150\n",
      "Epoch 312/500\n",
      "12392/12392 [==============================] - 22s 2ms/step - loss: 0.0150\n",
      "Epoch 313/500\n",
      "12392/12392 [==============================] - 22s 2ms/step - loss: 0.0150\n",
      "Epoch 314/500\n",
      "12392/12392 [==============================] - 23s 2ms/step - loss: 0.0150\n",
      "Epoch 315/500\n",
      "12392/12392 [==============================] - 22s 2ms/step - loss: 0.0150\n",
      "Epoch 316/500\n",
      "12392/12392 [==============================] - 22s 2ms/step - loss: 0.0150\n",
      "Epoch 317/500\n",
      "12392/12392 [==============================] - 23s 2ms/step - loss: 0.0150\n",
      "Epoch 318/500\n",
      "12392/12392 [==============================] - 22s 2ms/step - loss: 0.0150\n",
      "Epoch 319/500\n",
      "12392/12392 [==============================] - 22s 2ms/step - loss: 0.0150\n",
      "Epoch 320/500\n",
      "12392/12392 [==============================] - 23s 2ms/step - loss: 0.0150\n",
      "Epoch 321/500\n",
      "12392/12392 [==============================] - 22s 2ms/step - loss: 0.0150\n",
      "Epoch 322/500\n",
      "12392/12392 [==============================] - 22s 2ms/step - loss: 0.0150\n",
      "Epoch 323/500\n",
      "12392/12392 [==============================] - 23s 2ms/step - loss: 0.0150\n",
      "Epoch 324/500\n",
      "12392/12392 [==============================] - 23s 2ms/step - loss: 0.0150\n",
      "Epoch 325/500\n",
      "12392/12392 [==============================] - 22s 2ms/step - loss: 0.0150\n",
      "Epoch 326/500\n",
      "12392/12392 [==============================] - 22s 2ms/step - loss: 0.0149\n",
      "Epoch 327/500\n",
      "12392/12392 [==============================] - 24s 2ms/step - loss: 0.0149\n",
      "Epoch 328/500\n",
      "12392/12392 [==============================] - 22s 2ms/step - loss: 0.0150\n",
      "Epoch 329/500\n",
      "12392/12392 [==============================] - 22s 2ms/step - loss: 0.0150\n",
      "Epoch 330/500\n",
      "12392/12392 [==============================] - 23s 2ms/step - loss: 0.0149\n",
      "Epoch 331/500\n",
      "12392/12392 [==============================] - 22s 2ms/step - loss: 0.0149\n",
      "Epoch 332/500\n",
      "12392/12392 [==============================] - 22s 2ms/step - loss: 0.0149\n",
      "Epoch 333/500\n",
      "12392/12392 [==============================] - 24s 2ms/step - loss: 0.0150\n",
      "Epoch 334/500\n",
      "12392/12392 [==============================] - 24s 2ms/step - loss: 0.0149\n",
      "Epoch 335/500\n",
      "12392/12392 [==============================] - 23s 2ms/step - loss: 0.0149\n",
      "Epoch 336/500\n",
      "12392/12392 [==============================] - 24s 2ms/step - loss: 0.0149\n",
      "Epoch 337/500\n",
      "12392/12392 [==============================] - 23s 2ms/step - loss: 0.0149\n",
      "Epoch 338/500\n",
      "12392/12392 [==============================] - 22s 2ms/step - loss: 0.0149\n",
      "Epoch 339/500\n",
      "12392/12392 [==============================] - 24s 2ms/step - loss: 0.0149\n",
      "Epoch 340/500\n",
      "12392/12392 [==============================] - 22s 2ms/step - loss: 0.0149\n",
      "Epoch 341/500\n",
      "12392/12392 [==============================] - 22s 2ms/step - loss: 0.0149\n",
      "Epoch 342/500\n",
      "12392/12392 [==============================] - 22s 2ms/step - loss: 0.0149\n",
      "Epoch 343/500\n",
      "12392/12392 [==============================] - 23s 2ms/step - loss: 0.0149\n",
      "Epoch 344/500\n",
      "12392/12392 [==============================] - 22s 2ms/step - loss: 0.0149\n",
      "Epoch 345/500\n",
      "12392/12392 [==============================] - 23s 2ms/step - loss: 0.0149\n",
      "Epoch 346/500\n",
      "12392/12392 [==============================] - 24s 2ms/step - loss: 0.0149\n",
      "Epoch 347/500\n",
      "12392/12392 [==============================] - 22s 2ms/step - loss: 0.0149\n",
      "Epoch 348/500\n",
      "12392/12392 [==============================] - 23s 2ms/step - loss: 0.0149\n",
      "Epoch 349/500\n",
      "12392/12392 [==============================] - 24s 2ms/step - loss: 0.0149\n",
      "Epoch 350/500\n",
      "12392/12392 [==============================] - 22s 2ms/step - loss: 0.0149\n",
      "Epoch 351/500\n",
      "12392/12392 [==============================] - 22s 2ms/step - loss: 0.0149\n",
      "Epoch 352/500\n",
      "12392/12392 [==============================] - 24s 2ms/step - loss: 0.0149\n",
      "Epoch 353/500\n",
      "12392/12392 [==============================] - 22s 2ms/step - loss: 0.0148\n",
      "Epoch 354/500\n",
      "12392/12392 [==============================] - 22s 2ms/step - loss: 0.0149\n",
      "Epoch 355/500\n",
      "12392/12392 [==============================] - 23s 2ms/step - loss: 0.0149\n",
      "Epoch 356/500\n",
      "12392/12392 [==============================] - 22s 2ms/step - loss: 0.0149\n",
      "Epoch 357/500\n",
      "12392/12392 [==============================] - 22s 2ms/step - loss: 0.0149\n",
      "Epoch 358/500\n",
      "12392/12392 [==============================] - 22s 2ms/step - loss: 0.0149\n",
      "Epoch 359/500\n",
      "12392/12392 [==============================] - 23s 2ms/step - loss: 0.0148\n",
      "Epoch 360/500\n",
      "12392/12392 [==============================] - 21s 2ms/step - loss: 0.0148\n",
      "Epoch 361/500\n",
      "12392/12392 [==============================] - 22s 2ms/step - loss: 0.0148\n",
      "Epoch 362/500\n",
      "12392/12392 [==============================] - 23s 2ms/step - loss: 0.0148\n",
      "Epoch 363/500\n",
      "12392/12392 [==============================] - 22s 2ms/step - loss: 0.0148\n",
      "Epoch 364/500\n",
      "12392/12392 [==============================] - 22s 2ms/step - loss: 0.0149\n",
      "Epoch 365/500\n",
      "12392/12392 [==============================] - 23s 2ms/step - loss: 0.0148\n",
      "Epoch 366/500\n",
      "12392/12392 [==============================] - 22s 2ms/step - loss: 0.0148\n",
      "Epoch 367/500\n",
      "12392/12392 [==============================] - 22s 2ms/step - loss: 0.0148\n",
      "Epoch 368/500\n",
      "12392/12392 [==============================] - 22s 2ms/step - loss: 0.0148\n",
      "Epoch 369/500\n",
      "12392/12392 [==============================] - 23s 2ms/step - loss: 0.0148\n",
      "Epoch 370/500\n",
      "12392/12392 [==============================] - 22s 2ms/step - loss: 0.0148\n",
      "Epoch 371/500\n",
      "12392/12392 [==============================] - 22s 2ms/step - loss: 0.0148\n",
      "Epoch 372/500\n",
      "12392/12392 [==============================] - 24s 2ms/step - loss: 0.0148\n",
      "Epoch 373/500\n",
      "12392/12392 [==============================] - 22s 2ms/step - loss: 0.0148\n",
      "Epoch 374/500\n",
      "12392/12392 [==============================] - 22s 2ms/step - loss: 0.0148\n",
      "Epoch 375/500\n",
      "12392/12392 [==============================] - 24s 2ms/step - loss: 0.0148\n",
      "Epoch 376/500\n",
      "12392/12392 [==============================] - 22s 2ms/step - loss: 0.0148\n",
      "Epoch 377/500\n",
      "12392/12392 [==============================] - 22s 2ms/step - loss: 0.0148\n",
      "Epoch 378/500\n",
      "12392/12392 [==============================] - 23s 2ms/step - loss: 0.0148\n",
      "Epoch 379/500\n",
      "12392/12392 [==============================] - 22s 2ms/step - loss: 0.0148\n",
      "Epoch 380/500\n",
      "12392/12392 [==============================] - 22s 2ms/step - loss: 0.0148\n",
      "Epoch 381/500\n",
      "12392/12392 [==============================] - 22s 2ms/step - loss: 0.0148\n",
      "Epoch 382/500\n",
      "12392/12392 [==============================] - 24s 2ms/step - loss: 0.0148\n",
      "Epoch 383/500\n",
      "12392/12392 [==============================] - 23s 2ms/step - loss: 0.0148\n",
      "Epoch 384/500\n",
      "12392/12392 [==============================] - 22s 2ms/step - loss: 0.0148\n",
      "Epoch 385/500\n",
      "12392/12392 [==============================] - 24s 2ms/step - loss: 0.0148\n",
      "Epoch 386/500\n",
      "12392/12392 [==============================] - 22s 2ms/step - loss: 0.0148\n",
      "Epoch 387/500\n",
      "12392/12392 [==============================] - 22s 2ms/step - loss: 0.0148\n",
      "Epoch 388/500\n",
      "12392/12392 [==============================] - 24s 2ms/step - loss: 0.0148\n",
      "Epoch 389/500\n",
      "12392/12392 [==============================] - 22s 2ms/step - loss: 0.0148\n",
      "Epoch 390/500\n",
      "12392/12392 [==============================] - 22s 2ms/step - loss: 0.0148\n",
      "Epoch 391/500\n",
      "12392/12392 [==============================] - 23s 2ms/step - loss: 0.0148\n",
      "Epoch 392/500\n",
      "12392/12392 [==============================] - 23s 2ms/step - loss: 0.0148\n",
      "Epoch 393/500\n",
      "12392/12392 [==============================] - 22s 2ms/step - loss: 0.0148\n",
      "Epoch 394/500\n",
      "12392/12392 [==============================] - 22s 2ms/step - loss: 0.0147\n",
      "Epoch 395/500\n",
      "12392/12392 [==============================] - 24s 2ms/step - loss: 0.0147\n",
      "Epoch 396/500\n",
      "12392/12392 [==============================] - 22s 2ms/step - loss: 0.0148\n",
      "Epoch 397/500\n",
      "12392/12392 [==============================] - 22s 2ms/step - loss: 0.0148\n",
      "Epoch 398/500\n",
      "12392/12392 [==============================] - 24s 2ms/step - loss: 0.0148\n",
      "Epoch 399/500\n",
      "12392/12392 [==============================] - 22s 2ms/step - loss: 0.0147\n",
      "Epoch 400/500\n",
      "12392/12392 [==============================] - 23s 2ms/step - loss: 0.0147\n",
      "Epoch 401/500\n",
      "12392/12392 [==============================] - 25s 2ms/step - loss: 0.0147\n",
      "Epoch 402/500\n",
      "12392/12392 [==============================] - 23s 2ms/step - loss: 0.0147\n",
      "Epoch 403/500\n",
      "12392/12392 [==============================] - 23s 2ms/step - loss: 0.0147\n",
      "Epoch 404/500\n",
      "12392/12392 [==============================] - 24s 2ms/step - loss: 0.0147\n",
      "Epoch 405/500\n",
      "12392/12392 [==============================] - 23s 2ms/step - loss: 0.0147\n",
      "Epoch 406/500\n",
      "12392/12392 [==============================] - 22s 2ms/step - loss: 0.0147\n",
      "Epoch 407/500\n",
      "12392/12392 [==============================] - 22s 2ms/step - loss: 0.0147\n",
      "Epoch 408/500\n",
      "12392/12392 [==============================] - 23s 2ms/step - loss: 0.0147\n",
      "Epoch 409/500\n",
      "12392/12392 [==============================] - 22s 2ms/step - loss: 0.0147\n",
      "Epoch 410/500\n",
      "12392/12392 [==============================] - 22s 2ms/step - loss: 0.0147\n",
      "Epoch 411/500\n",
      "12392/12392 [==============================] - 24s 2ms/step - loss: 0.0147\n",
      "Epoch 412/500\n",
      "12392/12392 [==============================] - 22s 2ms/step - loss: 0.0147\n",
      "Epoch 413/500\n",
      "12392/12392 [==============================] - 22s 2ms/step - loss: 0.0147\n",
      "Epoch 414/500\n",
      "12392/12392 [==============================] - 23s 2ms/step - loss: 0.0147\n",
      "Epoch 415/500\n",
      "12392/12392 [==============================] - 22s 2ms/step - loss: 0.0147\n",
      "Epoch 416/500\n",
      "12392/12392 [==============================] - 22s 2ms/step - loss: 0.0147\n",
      "Epoch 417/500\n",
      "12392/12392 [==============================] - 24s 2ms/step - loss: 0.0147\n",
      "Epoch 418/500\n",
      "12392/12392 [==============================] - 22s 2ms/step - loss: 0.0147\n",
      "Epoch 419/500\n",
      "12392/12392 [==============================] - 22s 2ms/step - loss: 0.0147\n",
      "Epoch 420/500\n",
      "12392/12392 [==============================] - 22s 2ms/step - loss: 0.0147\n",
      "Epoch 421/500\n",
      "12392/12392 [==============================] - 22s 2ms/step - loss: 0.0147\n",
      "Epoch 422/500\n",
      "12392/12392 [==============================] - 22s 2ms/step - loss: 0.0147\n",
      "Epoch 423/500\n",
      "12392/12392 [==============================] - 23s 2ms/step - loss: 0.0147\n",
      "Epoch 424/500\n",
      "12392/12392 [==============================] - 22s 2ms/step - loss: 0.0147\n",
      "Epoch 425/500\n",
      "12392/12392 [==============================] - 22s 2ms/step - loss: 0.0146\n",
      "Epoch 426/500\n",
      "12392/12392 [==============================] - 22s 2ms/step - loss: 0.0147\n",
      "Epoch 427/500\n",
      "12392/12392 [==============================] - 22s 2ms/step - loss: 0.0147\n",
      "Epoch 428/500\n",
      "12392/12392 [==============================] - 23s 2ms/step - loss: 0.0147\n",
      "Epoch 429/500\n",
      "12392/12392 [==============================] - 23s 2ms/step - loss: 0.0147\n",
      "Epoch 430/500\n",
      "12392/12392 [==============================] - 23s 2ms/step - loss: 0.0147\n",
      "Epoch 431/500\n",
      "12392/12392 [==============================] - 22s 2ms/step - loss: 0.0147\n",
      "Epoch 432/500\n",
      "12392/12392 [==============================] - 22s 2ms/step - loss: 0.0147\n",
      "Epoch 433/500\n",
      "12392/12392 [==============================] - 22s 2ms/step - loss: 0.0147\n",
      "Epoch 434/500\n",
      "12392/12392 [==============================] - 22s 2ms/step - loss: 0.0147\n",
      "Epoch 435/500\n",
      "12392/12392 [==============================] - 24s 2ms/step - loss: 0.0146\n",
      "Epoch 436/500\n",
      "12392/12392 [==============================] - 22s 2ms/step - loss: 0.0147\n",
      "Epoch 437/500\n",
      "12392/12392 [==============================] - 22s 2ms/step - loss: 0.0146\n",
      "Epoch 438/500\n",
      "12392/12392 [==============================] - 22s 2ms/step - loss: 0.0146\n",
      "Epoch 439/500\n",
      "12392/12392 [==============================] - 22s 2ms/step - loss: 0.0146\n",
      "Epoch 440/500\n",
      "12392/12392 [==============================] - 22s 2ms/step - loss: 0.0146\n",
      "Epoch 441/500\n",
      "12392/12392 [==============================] - 23s 2ms/step - loss: 0.0147\n",
      "Epoch 442/500\n",
      "12392/12392 [==============================] - 23s 2ms/step - loss: 0.0146\n",
      "Epoch 443/500\n",
      "12392/12392 [==============================] - 23s 2ms/step - loss: 0.0146\n",
      "Epoch 444/500\n",
      "12392/12392 [==============================] - 22s 2ms/step - loss: 0.0146\n",
      "Epoch 445/500\n",
      "12392/12392 [==============================] - 22s 2ms/step - loss: 0.0146\n",
      "Epoch 446/500\n",
      "12392/12392 [==============================] - 22s 2ms/step - loss: 0.0146\n",
      "Epoch 447/500\n",
      "12392/12392 [==============================] - 22s 2ms/step - loss: 0.0146\n",
      "Epoch 448/500\n",
      "12392/12392 [==============================] - 23s 2ms/step - loss: 0.0146\n",
      "Epoch 449/500\n",
      "12392/12392 [==============================] - 22s 2ms/step - loss: 0.0146\n",
      "Epoch 450/500\n",
      "12392/12392 [==============================] - 22s 2ms/step - loss: 0.0146\n",
      "Epoch 451/500\n",
      "12392/12392 [==============================] - 22s 2ms/step - loss: 0.0146\n",
      "Epoch 452/500\n",
      "12392/12392 [==============================] - 22s 2ms/step - loss: 0.0146\n",
      "Epoch 453/500\n",
      "12392/12392 [==============================] - 22s 2ms/step - loss: 0.0146\n",
      "Epoch 454/500\n",
      "12392/12392 [==============================] - 23s 2ms/step - loss: 0.0146\n",
      "Epoch 455/500\n",
      "12392/12392 [==============================] - 22s 2ms/step - loss: 0.0146\n",
      "Epoch 456/500\n",
      "12392/12392 [==============================] - 22s 2ms/step - loss: 0.0146\n",
      "Epoch 457/500\n",
      "12392/12392 [==============================] - 22s 2ms/step - loss: 0.0146\n",
      "Epoch 458/500\n",
      "12392/12392 [==============================] - 22s 2ms/step - loss: 0.0146\n",
      "Epoch 459/500\n",
      "12392/12392 [==============================] - 22s 2ms/step - loss: 0.0146\n",
      "Epoch 460/500\n",
      "12392/12392 [==============================] - 24s 2ms/step - loss: 0.0146\n",
      "Epoch 461/500\n",
      "12392/12392 [==============================] - 22s 2ms/step - loss: 0.0146\n",
      "Epoch 462/500\n",
      "12392/12392 [==============================] - 22s 2ms/step - loss: 0.0146\n",
      "Epoch 463/500\n",
      "12392/12392 [==============================] - 22s 2ms/step - loss: 0.0146\n",
      "Epoch 464/500\n",
      "12392/12392 [==============================] - 22s 2ms/step - loss: 0.0146\n",
      "Epoch 465/500\n",
      "12392/12392 [==============================] - 22s 2ms/step - loss: 0.0146\n",
      "Epoch 466/500\n",
      "12392/12392 [==============================] - 24s 2ms/step - loss: 0.0146\n",
      "Epoch 467/500\n",
      "12392/12392 [==============================] - 21s 2ms/step - loss: 0.0146\n",
      "Epoch 468/500\n",
      "12392/12392 [==============================] - 22s 2ms/step - loss: 0.0146\n",
      "Epoch 469/500\n",
      "12392/12392 [==============================] - 22s 2ms/step - loss: 0.0146\n",
      "Epoch 470/500\n",
      "12392/12392 [==============================] - 22s 2ms/step - loss: 0.0146\n",
      "Epoch 471/500\n",
      "12392/12392 [==============================] - 22s 2ms/step - loss: 0.0146\n",
      "Epoch 472/500\n",
      "12392/12392 [==============================] - 23s 2ms/step - loss: 0.0146\n",
      "Epoch 473/500\n",
      "12392/12392 [==============================] - 23s 2ms/step - loss: 0.0145\n",
      "Epoch 474/500\n",
      "12392/12392 [==============================] - 22s 2ms/step - loss: 0.0146\n",
      "Epoch 475/500\n",
      "12392/12392 [==============================] - 22s 2ms/step - loss: 0.0146\n",
      "Epoch 476/500\n",
      "12392/12392 [==============================] - 22s 2ms/step - loss: 0.0146\n",
      "Epoch 477/500\n",
      "12392/12392 [==============================] - 22s 2ms/step - loss: 0.0146\n",
      "Epoch 478/500\n",
      "12392/12392 [==============================] - 23s 2ms/step - loss: 0.0145\n",
      "Epoch 479/500\n",
      "12392/12392 [==============================] - 23s 2ms/step - loss: 0.0145\n",
      "Epoch 480/500\n",
      "12392/12392 [==============================] - 22s 2ms/step - loss: 0.0146\n",
      "Epoch 481/500\n",
      "12392/12392 [==============================] - 22s 2ms/step - loss: 0.0146\n",
      "Epoch 482/500\n",
      "12392/12392 [==============================] - 22s 2ms/step - loss: 0.0146\n",
      "Epoch 483/500\n",
      "12392/12392 [==============================] - 22s 2ms/step - loss: 0.0145\n",
      "Epoch 484/500\n",
      "12392/12392 [==============================] - 23s 2ms/step - loss: 0.0145\n",
      "Epoch 485/500\n",
      "12392/12392 [==============================] - 23s 2ms/step - loss: 0.0145\n",
      "Epoch 486/500\n",
      "12392/12392 [==============================] - 22s 2ms/step - loss: 0.0145\n",
      "Epoch 487/500\n",
      "12392/12392 [==============================] - 22s 2ms/step - loss: 0.0145\n",
      "Epoch 488/500\n",
      "12392/12392 [==============================] - 21s 2ms/step - loss: 0.0145\n",
      "Epoch 489/500\n",
      "12392/12392 [==============================] - 22s 2ms/step - loss: 0.0145\n",
      "Epoch 490/500\n",
      "12392/12392 [==============================] - 22s 2ms/step - loss: 0.0145\n",
      "Epoch 491/500\n",
      "12392/12392 [==============================] - 24s 2ms/step - loss: 0.0145\n",
      "Epoch 492/500\n",
      "12392/12392 [==============================] - 22s 2ms/step - loss: 0.0145\n",
      "Epoch 493/500\n",
      "12392/12392 [==============================] - 22s 2ms/step - loss: 0.0145\n",
      "Epoch 494/500\n",
      "12392/12392 [==============================] - 21s 2ms/step - loss: 0.0145\n",
      "Epoch 495/500\n",
      "12392/12392 [==============================] - 22s 2ms/step - loss: 0.0145\n",
      "Epoch 496/500\n",
      "12392/12392 [==============================] - 22s 2ms/step - loss: 0.0145\n",
      "Epoch 497/500\n",
      "12392/12392 [==============================] - 24s 2ms/step - loss: 0.0145\n",
      "Epoch 498/500\n",
      "12392/12392 [==============================] - 22s 2ms/step - loss: 0.0145\n",
      "Epoch 499/500\n",
      "12392/12392 [==============================] - 22s 2ms/step - loss: 0.0145\n",
      "Epoch 500/500\n",
      "12392/12392 [==============================] - 22s 2ms/step - loss: 0.0145\n"
     ]
    },
    {
     "data": {
      "text/plain": [
       "<keras.callbacks.History at 0x7f6d6c6c6590>"
      ]
     },
     "execution_count": 26,
     "metadata": {},
     "output_type": "execute_result"
    }
   ],
   "source": [
    "model.fit(x_train, y_train, epochs=500)"
   ]
  },
  {
   "cell_type": "code",
   "execution_count": 27,
   "id": "334b3114",
   "metadata": {
    "collapsed": false,
    "execution": {
     "iopub.execute_input": "2023-03-12T17:20:56.836715Z",
     "iopub.status.busy": "2023-03-12T17:20:56.835455Z",
     "iopub.status.idle": "2023-03-12T17:21:07.359653Z",
     "shell.execute_reply": "2023-03-12T17:21:07.358258Z"
    },
    "jupyter": {
     "outputs_hidden": false
    },
    "papermill": {
     "duration": 25.760953,
     "end_time": "2023-03-12T17:21:07.362877",
     "exception": false,
     "start_time": "2023-03-12T17:20:41.601924",
     "status": "completed"
    },
    "pycharm": {
     "name": "#%%\n"
    },
    "tags": []
   },
   "outputs": [
    {
     "name": "stdout",
     "output_type": "stream",
     "text": [
      "4131/4131 [==============================] - 6s 1ms/step - loss: 0.0148\n",
      "\n",
      "Test loss: 0.014796343632042408\n"
     ]
    }
   ],
   "source": [
    "test_loss = model.evaluate(x_test,  y_test)\n",
    "print('\\nTest loss:', test_loss)"
   ]
  },
  {
   "cell_type": "code",
   "execution_count": 28,
   "id": "580590eb",
   "metadata": {
    "collapsed": false,
    "execution": {
     "iopub.execute_input": "2023-03-12T17:21:37.602119Z",
     "iopub.status.busy": "2023-03-12T17:21:37.601690Z",
     "iopub.status.idle": "2023-03-12T17:21:48.012681Z",
     "shell.execute_reply": "2023-03-12T17:21:48.011473Z"
    },
    "jupyter": {
     "outputs_hidden": false
    },
    "papermill": {
     "duration": 25.39677,
     "end_time": "2023-03-12T17:21:48.015695",
     "exception": false,
     "start_time": "2023-03-12T17:21:22.618925",
     "status": "completed"
    },
    "pycharm": {
     "name": "#%%\n"
    },
    "tags": []
   },
   "outputs": [
    {
     "name": "stdout",
     "output_type": "stream",
     "text": [
      "4131/4131 [==============================] - 5s 1ms/step\n"
     ]
    }
   ],
   "source": [
    "y_pred = model.predict(x_test)"
   ]
  },
  {
   "cell_type": "code",
   "execution_count": 29,
   "id": "49d6d649",
   "metadata": {
    "collapsed": false,
    "execution": {
     "iopub.execute_input": "2023-03-12T17:22:18.228048Z",
     "iopub.status.busy": "2023-03-12T17:22:18.226762Z",
     "iopub.status.idle": "2023-03-12T17:22:18.234822Z",
     "shell.execute_reply": "2023-03-12T17:22:18.233735Z"
    },
    "jupyter": {
     "outputs_hidden": false
    },
    "papermill": {
     "duration": 15.032693,
     "end_time": "2023-03-12T17:22:18.237082",
     "exception": false,
     "start_time": "2023-03-12T17:22:03.204389",
     "status": "completed"
    },
    "pycharm": {
     "name": "#%%\n"
    },
    "tags": []
   },
   "outputs": [
    {
     "data": {
      "text/plain": [
       "0.01479634083975169"
      ]
     },
     "execution_count": 29,
     "metadata": {},
     "output_type": "execute_result"
    }
   ],
   "source": [
    "mse = np.sum((y_pred - y_test) ** 2) / len(y_pred)\n",
    "mse"
   ]
  },
  {
   "cell_type": "code",
   "execution_count": 30,
   "id": "13a20681",
   "metadata": {
    "execution": {
     "iopub.execute_input": "2023-03-12T17:22:48.418457Z",
     "iopub.status.busy": "2023-03-12T17:22:48.418003Z",
     "iopub.status.idle": "2023-03-12T17:22:48.426562Z",
     "shell.execute_reply": "2023-03-12T17:22:48.425221Z"
    },
    "papermill": {
     "duration": 14.993301,
     "end_time": "2023-03-12T17:22:48.428975",
     "exception": false,
     "start_time": "2023-03-12T17:22:33.435674",
     "status": "completed"
    },
    "tags": []
   },
   "outputs": [
    {
     "data": {
      "text/plain": [
       "0.08820940257985746"
      ]
     },
     "execution_count": 30,
     "metadata": {},
     "output_type": "execute_result"
    }
   ],
   "source": [
    "np.sum(abs(y_pred - y_test)) / len(y_pred)"
   ]
  },
  {
   "cell_type": "code",
   "execution_count": 31,
   "id": "6d6271d5",
   "metadata": {
    "execution": {
     "iopub.execute_input": "2023-03-12T17:23:18.950346Z",
     "iopub.status.busy": "2023-03-12T17:23:18.949469Z",
     "iopub.status.idle": "2023-03-12T17:23:18.957224Z",
     "shell.execute_reply": "2023-03-12T17:23:18.956267Z"
    },
    "papermill": {
     "duration": 15.449203,
     "end_time": "2023-03-12T17:23:18.959594",
     "exception": false,
     "start_time": "2023-03-12T17:23:03.510391",
     "status": "completed"
    },
    "tags": []
   },
   "outputs": [
    {
     "data": {
      "text/plain": [
       "array([[0.5703]], dtype=float32)"
      ]
     },
     "execution_count": 31,
     "metadata": {},
     "output_type": "execute_result"
    }
   ],
   "source": [
    "y_test[:1]"
   ]
  },
  {
   "cell_type": "code",
   "execution_count": 32,
   "id": "ab192996",
   "metadata": {
    "execution": {
     "iopub.execute_input": "2023-03-12T17:23:48.902706Z",
     "iopub.status.busy": "2023-03-12T17:23:48.902309Z",
     "iopub.status.idle": "2023-03-12T17:23:48.915325Z",
     "shell.execute_reply": "2023-03-12T17:23:48.914346Z"
    },
    "papermill": {
     "duration": 14.981514,
     "end_time": "2023-03-12T17:23:48.917496",
     "exception": false,
     "start_time": "2023-03-12T17:23:33.935982",
     "status": "completed"
    },
    "tags": []
   },
   "outputs": [
    {
     "data": {
      "text/plain": [
       "array([[0.51272994]], dtype=float32)"
      ]
     },
     "execution_count": 32,
     "metadata": {},
     "output_type": "execute_result"
    }
   ],
   "source": [
    "model(x_test[:1]).numpy()"
   ]
  },
  {
   "cell_type": "code",
   "execution_count": 33,
   "id": "0e2732bf",
   "metadata": {
    "execution": {
     "iopub.execute_input": "2023-03-12T17:24:19.313613Z",
     "iopub.status.busy": "2023-03-12T17:24:19.313174Z",
     "iopub.status.idle": "2023-03-12T17:24:19.321367Z",
     "shell.execute_reply": "2023-03-12T17:24:19.320414Z"
    },
    "papermill": {
     "duration": 15.206891,
     "end_time": "2023-03-12T17:24:19.323647",
     "exception": false,
     "start_time": "2023-03-12T17:24:04.116756",
     "status": "completed"
    },
    "tags": []
   },
   "outputs": [
    {
     "data": {
      "text/plain": [
       "array([[0.05756992],\n",
       "       [0.01223585],\n",
       "       [0.2009521 ],\n",
       "       ...,\n",
       "       [0.15340823],\n",
       "       [0.00566551],\n",
       "       [0.00132042]], dtype=float32)"
      ]
     },
     "execution_count": 33,
     "metadata": {},
     "output_type": "execute_result"
    }
   ],
   "source": [
    "abs(y_pred - y_test)"
   ]
  },
  {
   "cell_type": "code",
   "execution_count": 34,
   "id": "39d6c712",
   "metadata": {
    "execution": {
     "iopub.execute_input": "2023-03-12T17:24:49.635870Z",
     "iopub.status.busy": "2023-03-12T17:24:49.635450Z",
     "iopub.status.idle": "2023-03-12T17:24:49.719787Z",
     "shell.execute_reply": "2023-03-12T17:24:49.718431Z"
    },
    "papermill": {
     "duration": 15.20715,
     "end_time": "2023-03-12T17:24:49.722702",
     "exception": false,
     "start_time": "2023-03-12T17:24:34.515552",
     "status": "completed"
    },
    "tags": []
   },
   "outputs": [],
   "source": [
    "model.save_weights('/kaggle/working/my_checkpoint')"
   ]
  }
 ],
 "metadata": {
  "kernelspec": {
   "display_name": "Python 3",
   "language": "python",
   "name": "python3"
  },
  "language_info": {
   "codemirror_mode": {
    "name": "ipython",
    "version": 3
   },
   "file_extension": ".py",
   "mimetype": "text/x-python",
   "name": "python",
   "nbconvert_exporter": "python",
   "pygments_lexer": "ipython3",
   "version": "3.7.12"
  },
  "papermill": {
   "default_parameters": {},
   "duration": 11553.334489,
   "end_time": "2023-03-12T17:25:07.741946",
   "environment_variables": {},
   "exception": null,
   "input_path": "__notebook__.ipynb",
   "output_path": "__notebook__.ipynb",
   "parameters": {},
   "start_time": "2023-03-12T14:12:34.407457",
   "version": "2.4.0"
  }
 },
 "nbformat": 4,
 "nbformat_minor": 5
}
