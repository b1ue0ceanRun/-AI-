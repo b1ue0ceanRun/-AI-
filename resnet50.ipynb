{
  "cells": [
    {
      "cell_type": "markdown",
      "metadata": {
        "id": "XXbjoi_2ilys"
      },
      "source": []
    },
    {
      "cell_type": "code",
      "execution_count": null,
      "metadata": {
        "id": "2R--u4jdimHr"
      },
      "outputs": [],
      "source": [
        "from torchvision.io import read_image\n",
        "from torchvision.models import resnet50, ResNet50_Weights\n",
        "\n",
        "def check(img):\n",
        "  # Step 1: Initialize model with the best available weights\n",
        "  weights = ResNet50_Weights.DEFAULT\n",
        "  model = resnet50(weights=weights)\n",
        "  model.eval()\n",
        "\n",
        "  # Step 2: Initialize the inference transforms\n",
        "  preprocess = weights.transforms()\n",
        "\n",
        "  # Step 3: Apply inference preprocessing transforms\n",
        "  batch = preprocess(img).unsqueeze(0)\n",
        "\n",
        "  # Step 4: Use the model and print the predicted category\n",
        "  prediction = model(batch).squeeze(0).softmax(0)\n",
        "  class_id = prediction.argmax().item()\n",
        "  score = prediction[class_id].item()\n",
        "  category_name = weights.meta[\"categories\"][class_id]\n",
        "  print(f\"{category_name}: {100 * score:.1f}%\")\n",
        "  return category_name,score\n"
      ]
    },
    {
      "cell_type": "code",
      "execution_count": null,
      "metadata": {
        "id": "oakZBWIDUaab",
        "colab": {
          "base_uri": "https://localhost:8080/",
          "height": 89,
          "referenced_widgets": [
            "5fefbd7c579c4d50b95b7fa5a464a51b",
            "b1679d9fcb3d4c238a4d790d1a5da0a7",
            "a3a1e9f7eb7b4e479c78afd3f6245d0b",
            "81566f9fafe349109fcec7776189761b",
            "bc37d5767ca146c7ab48d6acef8da180"
          ]
        },
        "outputId": "e8abe172-3be3-4575-caf5-65a8094c3104"
      },
      "outputs": [
        {
          "output_type": "stream",
          "name": "stderr",
          "text": [
            "Downloading: \"https://download.pytorch.org/models/resnet50-11ad3fa6.pth\" to /root/.cache/torch/hub/checkpoints/resnet50-11ad3fa6.pth\n"
          ]
        },
        {
          "output_type": "display_data",
          "data": {
            "text/plain": [
              "  0%|          | 0.00/97.8M [00:00<?, ?B/s]"
            ],
            "application/vnd.jupyter.widget-view+json": {
              "version_major": 2,
              "version_minor": 0,
              "model_id": "5fefbd7c579c4d50b95b7fa5a464a51b"
            }
          },
          "metadata": {}
        },
        {
          "output_type": "stream",
          "name": "stdout",
          "text": [
            "Persian cat: 26.5%\n"
          ]
        },
        {
          "output_type": "execute_result",
          "data": {
            "text/plain": [
              "('Persian cat', 0.26537108421325684)"
            ]
          },
          "metadata": {},
          "execution_count": 3
        }
      ],
      "source": [
        "from PIL import Image\n",
        "check(Image.open('/home/start.png'))"
      ]
    },
    {
      "cell_type": "markdown",
      "metadata": {
        "id": "sugLSCi1o9Zo"
      },
      "source": [
        "为了处理方便，把数据标准化到[-0.5,0.5] 之间"
      ]
    },
    {
      "cell_type": "code",
      "execution_count": null,
      "metadata": {
        "id": "HiDvvEizo8nW"
      },
      "outputs": [],
      "source": [
        "import numpy as np\n",
        "from PIL import Image\n",
        "min_ = 0\n",
        "max_ = 255\n",
        "\n",
        "def normalize(im):\n",
        "  im = im - (min_ + max_) / 2\n",
        "  im = im / (max_ - min_ )\n",
        "  LB = -1/2\n",
        "  UB = 1/2\n",
        "  return im,LB,UB\n",
        "\n",
        "def unnormalize(im):\n",
        "  im = im * (max_ - min_)\n",
        "  im = im + (min_ + max_) / 2\n",
        "  return im"
      ]
    },
    {
      "cell_type": "markdown",
      "metadata": {
        "id": "eWakukAnpGUT"
      },
      "source": [
        "随机选取一部分像素点"
      ]
    },
    {
      "cell_type": "code",
      "execution_count": null,
      "metadata": {
        "id": "MMgOHX3LpJLE"
      },
      "outputs": [],
      "source": [
        "def random_locations(size,min_pixelnum):\n",
        "    h = size[0]\n",
        "    w = size[1]\n",
        "    n = int(0.1 * h * w)\n",
        "    n = min(n,min_pixelnum)\n",
        "    locations = np.random.permutation(h * w)[:n]\n",
        "    p_x = locations % w\n",
        "    p_y = locations // w\n",
        "    pxy = list(zip(p_x,p_y))\n",
        "    pxy = np.array(pxy)\n",
        "    return pxy"
      ]
    },
    {
      "cell_type": "markdown",
      "metadata": {
        "id": "kPk4jTL0knm7"
      },
      "source": [
        "# 新段落"
      ]
    },
    {
      "cell_type": "markdown",
      "metadata": {
        "id": "ZECbjXrIorKw"
      },
      "source": [
        "选择一些点，遍历每个点，对每个点进行扰动 并生成新的图像，得到一个新的图像集合"
      ]
    },
    {
      "cell_type": "code",
      "execution_count": null,
      "metadata": {
        "id": "_bUR84LcoWIP"
      },
      "outputs": [],
      "source": [
        "# 扰动函数   r是扰动系数  r in [0,2]\n",
        "def cyclic(r,Ibxy,LB,UB):\n",
        "    result = r * Ibxy\n",
        "    if result.any() < LB:\n",
        "        result = result + (UB - LB)\n",
        "    elif result.any() > UB:\n",
        "        result = result - ( UB - LB )\n",
        "    result = result.clip(LB,UB)\n",
        "    return result"
      ]
    },
    {
      "cell_type": "code",
      "execution_count": null,
      "metadata": {
        "id": "sLfE58jlwGBp"
      },
      "outputs": [],
      "source": [
        "# 计算整个图片列表的得分\n",
        "# Img_list 的格式我们用 np.array\n",
        "def score(Img_list):\n",
        "  scores = []\n",
        "  for im in Img_list:\n",
        "    scores.append(check_array(im))\n",
        "  return scores"
      ]
    },
    {
      "cell_type": "markdown",
      "metadata": {
        "id": "XRjF03nPqvB5"
      },
      "source": [
        "正片开始：\n",
        "- p,r 扰动系数 r in [0,2]\n",
        "- R 最大迭代次数\n",
        "- t 像素个数\n",
        "\n"
      ]
    },
    {
      "cell_type": "code",
      "execution_count": null,
      "metadata": {
        "id": "YEKCQVn9oWUw"
      },
      "outputs": [],
      "source": [
        "def check_array(im):\n",
        "  im = Image.fromarray(im.astype(np.uint8))\n",
        "  return check(im)"
      ]
    },
    {
      "cell_type": "code",
      "execution_count": null,
      "metadata": {
        "id": "r8Ufmwh5zelS"
      },
      "outputs": [],
      "source": [
        "# 我们先来扰动一张图片试一试\n",
        "# 首先拉了个 pxy 出来   扰动这些点\n",
        "\n",
        "def generate_cycliced_img_list(im,pxy):\n",
        "  print('图片size：'+str(im.shape))\n",
        "  print('扰动的点们：'+str(pxy.shape))\n",
        "  # 首先把这些点对应的给提出来\n",
        "  # 先 normalize 一下 图片\n",
        "  cycliced_img_list = []\n",
        "  normalized_img,LB,UB = normalize(im)\n",
        "  waitcycliced_points = []\n",
        "  #normalized_img\n",
        "  #对每层通道都要进行扰动\n",
        "  for x,y in pxy:  \n",
        "    for l in range(3):\n",
        "      waitcycliced_points.append(normalized_img[:,:,l][x,y])\n",
        "  # len(waitcycliced_points)\n",
        "  # 对这些点做整体扰动\n",
        "  # waitcycliced_points\n",
        "  res = cyclic(1.5,np.array(waitcycliced_points),LB,UB)\n",
        "  # # len(res)\n",
        "  # # 扰动好了 要再插回去\n",
        "  count = 0\n",
        "  num = 0\n",
        "  for x,y in pxy:\n",
        "    cycliced_img = normalize(im)[0]\n",
        "    for l in range(3):\n",
        "      cycliced_img[:,:,l][x,y] = res[count]     \n",
        "      count += 1\n",
        "    cycliced_img_list.append(unnormalize(cycliced_img))\n",
        "  return cycliced_img_list\n",
        "  \n",
        "# cycliced_img_list = generate_cycliced_img_list(im,pxy)\n",
        "# len(cycliced_img_list)"
      ]
    },
    {
      "cell_type": "code",
      "execution_count": null,
      "metadata": {
        "id": "AbNWq-KmRvNV"
      },
      "outputs": [],
      "source": [
        "# 选择影响力最大的t个点\n",
        "def get_star_points(img_list,scores,pxy):\n",
        "  sc = []\n",
        "  num = 0\n",
        "  for l,s in scores:\n",
        "    \n",
        "    success_img = Image.fromarray((img_list[num]).astype(np.uint8))\n",
        "    success_img.save(\"/home/success.png\")\n",
        "    num += 1\n",
        "    if l != 'tabby' and \"cat\" not in l :\n",
        "      print('攻击成功！！！')\n",
        "      print(l)\n",
        "      return 0\n",
        "    sc.append(float(s))\n",
        "\n",
        "  indices = np.argsort(np.array(sc))[0:t]\n",
        "  PxPy_star = pxy[indices]\n",
        "  return PxPy_star"
      ]
    },
    {
      "cell_type": "markdown",
      "metadata": {
        "id": "EIfB3z-4cTCO"
      },
      "source": [
        "generate_cycliced_img_list(im,pxy)"
      ]
    },
    {
      "cell_type": "code",
      "execution_count": null,
      "metadata": {
        "id": "KqWSf_p3ctE3"
      },
      "outputs": [],
      "source": [
        "def localsearch(PxPy_star):\n",
        "  PxPy = [(x,y) for _a,_b in PxPy_star for x in range(_a-d,_a+d+1)   for y in range(_b - d,_b+d+1    )]\n",
        "  PxPy = [(x,y) for x,y in PxPy if 0<= x < w and 0<=y<h]\n",
        "  PxPy = list(set(PxPy))\n",
        "  PxPy = np.array(PxPy)\n",
        "  return PxPy"
      ]
    },
    {
      "cell_type": "code",
      "execution_count": null,
      "metadata": {
        "id": "6MXEy82Rku2h"
      },
      "outputs": [],
      "source": [
        "R = 30\n",
        "r = 1.5\n",
        "t = 5\n",
        "d = 2"
      ]
    },
    {
      "cell_type": "code",
      "execution_count": null,
      "metadata": {
        "colab": {
          "base_uri": "https://localhost:8080/",
          "height": 77
        },
        "id": "X05vk8HkkyP_",
        "outputId": "b2062ac9-8f0b-46af-f235-597220e56a31"
      },
      "outputs": [
        {
          "output_type": "execute_result",
          "data": {
            "text/plain": [
              "<PIL.PngImagePlugin.PngImageFile image mode=RGB size=60x60 at 0x7F4886054A90>"
            ],
            "image/png": "[encoded data removed]"
          },
          "metadata": {},
          "execution_count": 16
        }
      ],
      "source": [
        "# 读入图片\n",
        "im = Image.open('/home/start.png')#也就是题目中给出的图片\n",
        "im"
      ]
    },
    {
      "cell_type": "code",
      "execution_count": null,
      "metadata": {
        "colab": {
          "base_uri": "https://localhost:8080/"
        },
        "id": "i-HIM7ISk8Ne",
        "outputId": "98ae98b7-7fa3-4e05-c285-13548a996629"
      },
      "outputs": [
        {
          "output_type": "execute_result",
          "data": {
            "text/plain": [
              "(60, 60, 3)"
            ]
          },
          "metadata": {},
          "execution_count": 17
        }
      ],
      "source": [
        "(h,w)= im.size\n",
        "im = np.array(im)\n",
        "im.shape"
      ]
    },
    {
      "cell_type": "code",
      "execution_count": null,
      "metadata": {
        "colab": {
          "base_uri": "https://localhost:8080/",
          "height": 1000
        },
        "id": "OVk-yeSOeTD1",
        "outputId": "d30741c9-854d-4e0c-ef4d-7386e30c4669"
      },
      "outputs": [
        {
          "output_type": "stream",
          "name": "stdout",
          "text": [
            "图片size：(60, 60, 3)\n",
            "扰动的点们：(150, 2)\n",
            "Persian cat: 25.9%\n",
            "Persian cat: 23.7%\n",
            "Persian cat: 26.8%\n",
            "Persian cat: 23.7%\n",
            "Persian cat: 23.6%\n",
            "Persian cat: 26.8%\n",
            "Persian cat: 26.0%\n",
            "Persian cat: 9.8%\n",
            "Persian cat: 20.8%\n",
            "Persian cat: 26.8%\n",
            "Persian cat: 18.1%\n",
            "Persian cat: 21.0%\n",
            "Persian cat: 16.5%\n",
            "Persian cat: 26.1%\n",
            "Persian cat: 24.2%\n",
            "Persian cat: 26.8%\n",
            "Persian cat: 25.3%\n",
            "Persian cat: 24.6%\n",
            "Persian cat: 21.9%\n",
            "Persian cat: 23.4%\n",
            "Persian cat: 23.2%\n",
            "Persian cat: 26.3%\n",
            "Persian cat: 22.4%\n",
            "Persian cat: 25.9%\n",
            "Persian cat: 25.2%\n",
            "Persian cat: 28.5%\n",
            "Persian cat: 19.2%\n",
            "Persian cat: 19.3%\n",
            "Persian cat: 23.3%\n",
            "Persian cat: 26.5%\n",
            "Persian cat: 25.3%\n",
            "Persian cat: 23.1%\n",
            "Persian cat: 26.0%\n",
            "Persian cat: 25.4%\n",
            "Persian cat: 17.2%\n",
            "Persian cat: 26.0%\n",
            "Persian cat: 26.2%\n",
            "Persian cat: 25.3%\n",
            "Persian cat: 22.3%\n",
            "Persian cat: 27.3%\n",
            "Persian cat: 27.1%\n",
            "Persian cat: 25.3%\n",
            "Persian cat: 25.6%\n",
            "Persian cat: 26.0%\n",
            "Persian cat: 26.7%\n",
            "Persian cat: 25.1%\n",
            "Persian cat: 20.3%\n",
            "Persian cat: 24.0%\n",
            "Persian cat: 24.1%\n",
            "Persian cat: 22.0%\n",
            "Persian cat: 21.9%\n",
            "Persian cat: 25.8%\n",
            "Persian cat: 24.3%\n",
            "Persian cat: 24.1%\n",
            "Persian cat: 25.0%\n",
            "Persian cat: 27.8%\n",
            "Persian cat: 24.6%\n",
            "Persian cat: 17.6%\n",
            "Persian cat: 22.2%\n",
            "Persian cat: 24.9%\n",
            "Persian cat: 26.2%\n",
            "Persian cat: 20.9%\n",
            "Persian cat: 19.6%\n",
            "Persian cat: 26.6%\n",
            "Persian cat: 25.1%\n",
            "Persian cat: 24.9%\n",
            "Persian cat: 23.3%\n",
            "Persian cat: 23.0%\n",
            "Persian cat: 26.5%\n",
            "Persian cat: 27.7%\n",
            "Persian cat: 12.1%\n",
            "Persian cat: 22.9%\n",
            "Persian cat: 22.8%\n",
            "Persian cat: 25.6%\n",
            "Persian cat: 26.6%\n",
            "Persian cat: 20.7%\n",
            "Persian cat: 25.9%\n",
            "Persian cat: 23.6%\n",
            "Persian cat: 26.2%\n",
            "Persian cat: 25.6%\n",
            "Persian cat: 25.3%\n",
            "Persian cat: 24.8%\n",
            "Persian cat: 22.0%\n",
            "Persian cat: 25.1%\n",
            "Persian cat: 26.0%\n",
            "Persian cat: 17.0%\n",
            "Persian cat: 21.7%\n",
            "Persian cat: 27.5%\n",
            "Persian cat: 25.1%\n",
            "Persian cat: 25.0%\n",
            "Persian cat: 25.2%\n",
            "Persian cat: 23.6%\n",
            "Persian cat: 22.8%\n",
            "Persian cat: 25.3%\n",
            "Persian cat: 22.5%\n",
            "Persian cat: 23.3%\n",
            "Persian cat: 20.0%\n",
            "Persian cat: 25.1%\n",
            "Persian cat: 18.6%\n",
            "Persian cat: 23.9%\n",
            "Persian cat: 20.7%\n",
            "Persian cat: 25.1%\n",
            "Persian cat: 24.3%\n",
            "Persian cat: 22.2%\n",
            "Persian cat: 24.3%\n",
            "Persian cat: 16.8%\n",
            "Persian cat: 25.5%\n",
            "Persian cat: 25.7%\n",
            "Persian cat: 25.0%\n",
            "Persian cat: 23.6%\n",
            "Persian cat: 24.6%\n",
            "Persian cat: 24.9%\n",
            "Persian cat: 26.1%\n",
            "Persian cat: 22.1%\n",
            "Persian cat: 23.2%\n",
            "Persian cat: 21.7%\n",
            "Persian cat: 7.8%\n",
            "Persian cat: 26.3%\n",
            "Persian cat: 25.0%\n",
            "Persian cat: 25.3%\n",
            "Persian cat: 22.3%\n",
            "Persian cat: 27.8%\n",
            "Persian cat: 25.2%\n",
            "Persian cat: 23.3%\n",
            "Persian cat: 25.0%\n",
            "Persian cat: 25.9%\n",
            "Persian cat: 26.4%\n",
            "Persian cat: 23.4%\n",
            "Persian cat: 28.4%\n",
            "Persian cat: 22.8%\n",
            "Persian cat: 23.7%\n",
            "Persian cat: 29.0%\n",
            "Persian cat: 25.6%\n",
            "Persian cat: 25.0%\n",
            "Persian cat: 24.6%\n",
            "Persian cat: 25.0%\n",
            "Persian cat: 25.8%\n",
            "Persian cat: 20.1%\n",
            "Persian cat: 23.7%\n",
            "Persian cat: 19.1%\n",
            "Persian cat: 23.6%\n",
            "Persian cat: 29.8%\n",
            "Persian cat: 23.6%\n",
            "Persian cat: 8.0%\n",
            "Persian cat: 22.4%\n",
            "Persian cat: 25.1%\n",
            "Persian cat: 23.9%\n",
            "Persian cat: 24.7%\n",
            "Persian cat: 24.9%\n",
            "Persian cat: 26.6%\n",
            "第1轮迭代：\n",
            "即将对107个点进行check\n",
            "图片size：(60, 60, 3)\n",
            "扰动的点们：(107, 2)\n",
            "Persian cat: 7.6%\n",
            "Persian cat: 8.7%\n",
            "Persian cat: 25.0%\n",
            "Persian cat: 21.4%\n",
            "Persian cat: 21.0%\n",
            "Persian cat: 9.8%\n",
            "Persian cat: 14.6%\n",
            "Persian cat: 22.6%\n",
            "Persian cat: 22.3%\n",
            "Persian cat: 15.3%\n",
            "Persian cat: 12.3%\n",
            "Persian cat: 21.2%\n",
            "Persian cat: 17.1%\n",
            "Persian cat: 11.0%\n",
            "Persian cat: 13.3%\n",
            "Persian cat: 12.9%\n",
            "Persian cat: 11.0%\n",
            "Persian cat: 22.0%\n",
            "Persian cat: 6.4%\n",
            "Persian cat: 20.0%\n",
            "Persian cat: 5.8%\n",
            "Persian cat: 4.4%\n",
            "Persian cat: 27.2%\n",
            "Persian cat: 19.3%\n",
            "Persian cat: 9.0%\n",
            "Persian cat: 11.3%\n",
            "Persian cat: 19.9%\n",
            "Persian cat: 22.8%\n",
            "Persian cat: 10.5%\n",
            "Persian cat: 15.1%\n",
            "Persian cat: 19.9%\n",
            "Persian cat: 10.7%\n",
            "Persian cat: 11.6%\n",
            "Persian cat: 20.9%\n",
            "Persian cat: 5.4%\n",
            "Persian cat: 4.4%\n",
            "Persian cat: 24.3%\n",
            "Persian cat: 20.3%\n",
            "Persian cat: 6.7%\n",
            "Persian cat: 19.7%\n",
            "Persian cat: 8.6%\n",
            "Persian cat: 16.8%\n",
            "Persian cat: 8.3%\n",
            "Persian cat: 23.3%\n",
            "Persian cat: 11.2%\n",
            "Persian cat: 16.2%\n",
            "Persian cat: 9.1%\n",
            "Persian cat: 14.4%\n",
            "Persian cat: 22.4%\n",
            "Persian cat: 5.6%\n",
            "Persian cat: 8.0%\n",
            "Persian cat: 5.2%\n",
            "Persian cat: 9.4%\n",
            "Persian cat: 13.5%\n",
            "Persian cat: 15.7%\n",
            "Persian cat: 12.1%\n",
            "Persian cat: 7.5%\n",
            "Persian cat: 10.8%\n",
            "Persian cat: 22.3%\n",
            "Persian cat: 23.2%\n",
            "Persian cat: 8.7%\n",
            "Persian cat: 4.0%\n",
            "goldfish: 6.4%\n",
            "Persian cat: 5.9%\n",
            "Persian cat: 16.7%\n",
            "Persian cat: 9.2%\n",
            "Persian cat: 19.1%\n",
            "Persian cat: 25.4%\n",
            "Persian cat: 13.4%\n",
            "Persian cat: 7.6%\n",
            "Persian cat: 21.9%\n",
            "Persian cat: 23.6%\n",
            "Persian cat: 16.2%\n",
            "Persian cat: 4.4%\n",
            "Persian cat: 8.0%\n",
            "Persian cat: 15.7%\n",
            "Persian cat: 8.7%\n",
            "Persian cat: 21.4%\n",
            "Persian cat: 22.7%\n",
            "Persian cat: 9.8%\n",
            "Persian cat: 20.0%\n",
            "Persian cat: 16.8%\n",
            "Persian cat: 5.3%\n",
            "Persian cat: 24.0%\n",
            "Persian cat: 23.4%\n",
            "Persian cat: 14.4%\n",
            "Persian cat: 11.0%\n",
            "Persian cat: 20.7%\n",
            "Persian cat: 5.0%\n",
            "Persian cat: 11.6%\n",
            "Persian cat: 21.4%\n",
            "Persian cat: 11.7%\n",
            "Persian cat: 24.6%\n",
            "Persian cat: 9.4%\n",
            "Persian cat: 8.0%\n",
            "Persian cat: 10.9%\n",
            "Persian cat: 14.3%\n",
            "Persian cat: 21.6%\n",
            "Persian cat: 7.8%\n",
            "Persian cat: 22.4%\n",
            "Persian cat: 15.2%\n",
            "Persian cat: 9.0%\n",
            "Persian cat: 5.2%\n",
            "Persian cat: 16.5%\n",
            "Persian cat: 25.1%\n",
            "Persian cat: 5.9%\n",
            "Persian cat: 5.2%\n",
            "攻击成功！！！\n",
            "goldfish\n",
            "第2轮迭代：\n"
          ]
        },
        {
          "output_type": "error",
          "ename": "TypeError",
          "evalue": "ignored",
          "traceback": [
            "\u001b[0;31m---------------------------------------------------------------------------\u001b[0m",
            "\u001b[0;31mTypeError\u001b[0m                                 Traceback (most recent call last)",
            "\u001b[0;32m<ipython-input-18-a5748d1be9b0>\u001b[0m in \u001b[0;36m<module>\u001b[0;34m\u001b[0m\n\u001b[1;32m     12\u001b[0m     \u001b[0mscores\u001b[0m \u001b[0;34m=\u001b[0m \u001b[0mscore\u001b[0m\u001b[0;34m(\u001b[0m\u001b[0mcycliced_img_list\u001b[0m\u001b[0;34m)\u001b[0m\u001b[0;34m\u001b[0m\u001b[0;34m\u001b[0m\u001b[0m\n\u001b[1;32m     13\u001b[0m     \u001b[0mPxPy_star\u001b[0m \u001b[0;34m=\u001b[0m \u001b[0mget_star_points\u001b[0m\u001b[0;34m(\u001b[0m\u001b[0mcycliced_img_list\u001b[0m\u001b[0;34m,\u001b[0m\u001b[0mscores\u001b[0m\u001b[0;34m,\u001b[0m\u001b[0mPxPy\u001b[0m\u001b[0;34m)\u001b[0m\u001b[0;34m\u001b[0m\u001b[0;34m\u001b[0m\u001b[0m\n\u001b[0;32m---> 14\u001b[0;31m \u001b[0mattack\u001b[0m\u001b[0;34m(\u001b[0m\u001b[0;34m)\u001b[0m\u001b[0;34m\u001b[0m\u001b[0;34m\u001b[0m\u001b[0m\n\u001b[0m",
            "\u001b[0;32m<ipython-input-18-a5748d1be9b0>\u001b[0m in \u001b[0;36mattack\u001b[0;34m()\u001b[0m\n\u001b[1;32m      7\u001b[0m   \u001b[0;32mfor\u001b[0m \u001b[0mi\u001b[0m \u001b[0;32min\u001b[0m \u001b[0mrange\u001b[0m\u001b[0;34m(\u001b[0m\u001b[0mR\u001b[0m\u001b[0;34m)\u001b[0m\u001b[0;34m:\u001b[0m\u001b[0;34m\u001b[0m\u001b[0;34m\u001b[0m\u001b[0m\n\u001b[1;32m      8\u001b[0m     \u001b[0mprint\u001b[0m\u001b[0;34m(\u001b[0m\u001b[0;34m\"第\"\u001b[0m\u001b[0;34m+\u001b[0m\u001b[0mstr\u001b[0m\u001b[0;34m(\u001b[0m\u001b[0mi\u001b[0m\u001b[0;34m+\u001b[0m\u001b[0;36m1\u001b[0m\u001b[0;34m)\u001b[0m\u001b[0;34m+\u001b[0m\u001b[0;34m\"轮迭代：\"\u001b[0m\u001b[0;34m)\u001b[0m\u001b[0;34m\u001b[0m\u001b[0;34m\u001b[0m\u001b[0m\n\u001b[0;32m----> 9\u001b[0;31m     \u001b[0mPxPy\u001b[0m \u001b[0;34m=\u001b[0m \u001b[0mlocalsearch\u001b[0m\u001b[0;34m(\u001b[0m\u001b[0mPxPy_star\u001b[0m\u001b[0;34m)\u001b[0m\u001b[0;34m\u001b[0m\u001b[0;34m\u001b[0m\u001b[0m\n\u001b[0m\u001b[1;32m     10\u001b[0m     \u001b[0mprint\u001b[0m\u001b[0;34m(\u001b[0m\u001b[0;34m\"即将对\"\u001b[0m\u001b[0;34m+\u001b[0m\u001b[0mstr\u001b[0m\u001b[0;34m(\u001b[0m\u001b[0mlen\u001b[0m\u001b[0;34m(\u001b[0m\u001b[0mPxPy\u001b[0m\u001b[0;34m)\u001b[0m\u001b[0;34m)\u001b[0m\u001b[0;34m+\u001b[0m\u001b[0;34m\"个点进行check\"\u001b[0m\u001b[0;34m)\u001b[0m\u001b[0;34m\u001b[0m\u001b[0;34m\u001b[0m\u001b[0m\n\u001b[1;32m     11\u001b[0m     \u001b[0mcycliced_img_list\u001b[0m \u001b[0;34m=\u001b[0m \u001b[0mgenerate_cycliced_img_list\u001b[0m\u001b[0;34m(\u001b[0m\u001b[0mim\u001b[0m\u001b[0;34m,\u001b[0m\u001b[0mPxPy\u001b[0m\u001b[0;34m)\u001b[0m\u001b[0;34m\u001b[0m\u001b[0;34m\u001b[0m\u001b[0m\n",
            "\u001b[0;32m<ipython-input-11-34f488bec70f>\u001b[0m in \u001b[0;36mlocalsearch\u001b[0;34m(PxPy_star)\u001b[0m\n\u001b[1;32m      1\u001b[0m \u001b[0;32mdef\u001b[0m \u001b[0mlocalsearch\u001b[0m\u001b[0;34m(\u001b[0m\u001b[0mPxPy_star\u001b[0m\u001b[0;34m)\u001b[0m\u001b[0;34m:\u001b[0m\u001b[0;34m\u001b[0m\u001b[0;34m\u001b[0m\u001b[0m\n\u001b[0;32m----> 2\u001b[0;31m   \u001b[0mPxPy\u001b[0m \u001b[0;34m=\u001b[0m \u001b[0;34m[\u001b[0m\u001b[0;34m(\u001b[0m\u001b[0mx\u001b[0m\u001b[0;34m,\u001b[0m\u001b[0my\u001b[0m\u001b[0;34m)\u001b[0m \u001b[0;32mfor\u001b[0m \u001b[0m_a\u001b[0m\u001b[0;34m,\u001b[0m\u001b[0m_b\u001b[0m \u001b[0;32min\u001b[0m \u001b[0mPxPy_star\u001b[0m \u001b[0;32mfor\u001b[0m \u001b[0mx\u001b[0m \u001b[0;32min\u001b[0m \u001b[0mrange\u001b[0m\u001b[0;34m(\u001b[0m\u001b[0m_a\u001b[0m\u001b[0;34m-\u001b[0m\u001b[0md\u001b[0m\u001b[0;34m,\u001b[0m\u001b[0m_a\u001b[0m\u001b[0;34m+\u001b[0m\u001b[0md\u001b[0m\u001b[0;34m+\u001b[0m\u001b[0;36m1\u001b[0m\u001b[0;34m)\u001b[0m   \u001b[0;32mfor\u001b[0m \u001b[0my\u001b[0m \u001b[0;32min\u001b[0m \u001b[0mrange\u001b[0m\u001b[0;34m(\u001b[0m\u001b[0m_b\u001b[0m \u001b[0;34m-\u001b[0m \u001b[0md\u001b[0m\u001b[0;34m,\u001b[0m\u001b[0m_b\u001b[0m\u001b[0;34m+\u001b[0m\u001b[0md\u001b[0m\u001b[0;34m+\u001b[0m\u001b[0;36m1\u001b[0m    \u001b[0;34m)\u001b[0m\u001b[0;34m]\u001b[0m\u001b[0;34m\u001b[0m\u001b[0;34m\u001b[0m\u001b[0m\n\u001b[0m\u001b[1;32m      3\u001b[0m   \u001b[0mPxPy\u001b[0m \u001b[0;34m=\u001b[0m \u001b[0;34m[\u001b[0m\u001b[0;34m(\u001b[0m\u001b[0mx\u001b[0m\u001b[0;34m,\u001b[0m\u001b[0my\u001b[0m\u001b[0;34m)\u001b[0m \u001b[0;32mfor\u001b[0m \u001b[0mx\u001b[0m\u001b[0;34m,\u001b[0m\u001b[0my\u001b[0m \u001b[0;32min\u001b[0m \u001b[0mPxPy\u001b[0m \u001b[0;32mif\u001b[0m \u001b[0;36m0\u001b[0m\u001b[0;34m<=\u001b[0m \u001b[0mx\u001b[0m \u001b[0;34m<\u001b[0m \u001b[0mw\u001b[0m \u001b[0;32mand\u001b[0m \u001b[0;36m0\u001b[0m\u001b[0;34m<=\u001b[0m\u001b[0my\u001b[0m\u001b[0;34m<\u001b[0m\u001b[0mh\u001b[0m\u001b[0;34m]\u001b[0m\u001b[0;34m\u001b[0m\u001b[0;34m\u001b[0m\u001b[0m\n\u001b[1;32m      4\u001b[0m   \u001b[0mPxPy\u001b[0m \u001b[0;34m=\u001b[0m \u001b[0mlist\u001b[0m\u001b[0;34m(\u001b[0m\u001b[0mset\u001b[0m\u001b[0;34m(\u001b[0m\u001b[0mPxPy\u001b[0m\u001b[0;34m)\u001b[0m\u001b[0;34m)\u001b[0m\u001b[0;34m\u001b[0m\u001b[0;34m\u001b[0m\u001b[0m\n\u001b[1;32m      5\u001b[0m   \u001b[0mPxPy\u001b[0m \u001b[0;34m=\u001b[0m \u001b[0mnp\u001b[0m\u001b[0;34m.\u001b[0m\u001b[0marray\u001b[0m\u001b[0;34m(\u001b[0m\u001b[0mPxPy\u001b[0m\u001b[0;34m)\u001b[0m\u001b[0;34m\u001b[0m\u001b[0;34m\u001b[0m\u001b[0m\n",
            "\u001b[0;31mTypeError\u001b[0m: 'int' object is not iterable"
          ]
        }
      ],
      "source": [
        "def attack():\n",
        "  # 初始化 (px,py) 集合   100个点\n",
        "  pxy = random_locations(size=(h,w),min_pixelnum=150)\n",
        "  first_list = generate_cycliced_img_list(im,pxy)\n",
        "  scores = score(first_list)\n",
        "  PxPy_star = get_star_points(first_list,scores,pxy)\n",
        "  for i in range(R):\n",
        "    print(\"第\"+str(i+1)+\"轮迭代：\")\n",
        "    PxPy = localsearch(PxPy_star)\n",
        "    print(\"即将对\"+str(len(PxPy))+\"个点进行check\")\n",
        "    cycliced_img_list = generate_cycliced_img_list(im,PxPy)\n",
        "    scores = score(cycliced_img_list)\n",
        "    PxPy_star = get_star_points(cycliced_img_list,scores,PxPy)\n",
        "attack()"
      ]
    },
    {
      "cell_type": "code",
      "execution_count": null,
      "metadata": {
        "colab": {
          "base_uri": "https://localhost:8080/"
        },
        "id": "maDwIe-Eevtp",
        "outputId": "887c5330-14e0-4201-d20d-b74ea7c0432b"
      },
      "outputs": [
        {
          "output_type": "stream",
          "name": "stdout",
          "text": [
            "goldfish: 6.4%\n"
          ]
        },
        {
          "output_type": "execute_result",
          "data": {
            "text/plain": [
              "('goldfish', 0.06421279162168503)"
            ]
          },
          "metadata": {},
          "execution_count": 19
        }
      ],
      "source": [
        "check(Image.open('/home/success.png'))"
      ]
    },
    {
      "cell_type": "markdown",
      "metadata": {
        "id": "irpbQ-4bOA-H"
      },
      "source": [
        "# 新段落"
      ]
    }
  ],
  "metadata": {
    "colab": {
      "provenance": []
    },
    "kernelspec": {
      "display_name": "Python 3",
      "name": "python3"
    },
    "language_info": {
      "name": "python"
    },
    "widgets": {
      "application/vnd.jupyter.widget-state+json": {
        "5fefbd7c579c4d50b95b7fa5a464a51b": {
          "model_module": "@jupyter-widgets/controls",
          "model_name": "HBoxModel",
          "model_module_version": "1.5.0",
          "state": {
            "_dom_classes": [],
            "_model_module": "@jupyter-widgets/controls",
            "_model_module_version": "1.5.0",
            "_model_name": "HBoxModel",
            "_view_count": null,
            "_view_module": "@jupyter-widgets/controls",
            "_view_module_version": "1.5.0",
            "_view_name": "HBoxView",
            "box_style": "",
            "children": [
              "IPY_MODEL_b1679d9fcb3d4c238a4d790d1a5da0a7",
              "IPY_MODEL_a3a1e9f7eb7b4e479c78afd3f6245d0b",
              "IPY_MODEL_81566f9fafe349109fcec7776189761b"
            ],
            "layout": "IPY_MODEL_bc37d5767ca146c7ab48d6acef8da180"
          }
        }
      }
    }
  },
  "nbformat": 4,
  "nbformat_minor": 0
}